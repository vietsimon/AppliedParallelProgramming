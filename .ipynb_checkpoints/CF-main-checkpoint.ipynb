{
 "cells": [
  {
   "cell_type": "code",
   "execution_count": 34,
   "metadata": {},
   "outputs": [],
   "source": [
    "from numba import jit, cuda,config,prange\n",
    "config.THREADING_LAYER = 'omp'\n",
    "\n",
    "import math\n",
    "import numpy as np\n",
    "from math import *\n",
    "import time\n",
    "from sklearn.metrics.pairwise import cosine_similarity\n",
    "from scipy import sparse"
   ]
  },
  {
   "cell_type": "markdown",
   "metadata": {},
   "source": [
    "### Similarity matrix"
   ]
  },
  {
   "cell_type": "code",
   "execution_count": 74,
   "metadata": {},
   "outputs": [],
   "source": [
    "matrix=np.random.uniform(10, 1000, size=(80, 10000))\n",
    "# matrix=np.array([[12,13,14,10],[7,8,89,21],[1,2,3,4]])\n",
    "# matrix=np.array([[2,np.nan,np.nan,5,1,np.nan],[np.nan,np.nan,3,4,3,1],[3,1,3,np.nan,5,np.nan],\n",
    "#                            [np.nan,4,np.nan,np.nan,5,3],[np.nan,1,2,3,np.nan,np.nan],[1,np.nan,2,np.nan,2,np.nan]])\n"
   ]
  },
  {
   "cell_type": "markdown",
   "metadata": {},
   "source": [
    "### CPU V1"
   ]
  },
  {
   "cell_type": "code",
   "execution_count": 75,
   "metadata": {},
   "outputs": [],
   "source": [
    "def calc_cosine_similarity_cpu(arr):\n",
    "\n",
    "    # Caclculate euclidean distance between users, perform parallelization here\n",
    "    euclidean_distance_matrix = []\n",
    "    for i in arr:\n",
    "        user_distance = []\n",
    "        for j in arr:\n",
    "            vector_distance = i - j\n",
    "            euclidean_calc = 0\n",
    "            for ele in vector_distance:\n",
    "                if isnan(ele) == False:\n",
    "                    euclidean_calc += ele*ele\n",
    "            user_distance.append(sqrt(euclidean_calc))\n",
    "\n",
    "        euclidean_distance_matrix.append(user_distance)\n",
    "\n",
    "    # Calculate cosine similarity\n",
    "    euclidean_distance_matrix = np.array(euclidean_distance_matrix).T\n",
    "    A_sparse = sparse.csr_matrix(euclidean_distance_matrix)\n",
    "    cosine_similarities = cosine_similarity(A_sparse)\n",
    "\n",
    "    return cosine_similarities"
   ]
  },
  {
   "cell_type": "code",
   "execution_count": 76,
   "metadata": {},
   "outputs": [
    {
     "name": "stdout",
     "output_type": "stream",
     "text": [
      "Processing time: 7.496023416519165 s\n"
     ]
    }
   ],
   "source": [
    "start = time.time()\n",
    "cpu_v1_result=calc_cosine_similarity_cpu(matrix)\n",
    "end = time.time()\n",
    "print(f'Processing time: {end - start} s')\n"
   ]
  },
  {
   "cell_type": "code",
   "execution_count": 70,
   "metadata": {},
   "outputs": [
    {
     "data": {
      "text/plain": [
       "(50, 50)"
      ]
     },
     "execution_count": 70,
     "metadata": {},
     "output_type": "execute_result"
    }
   ],
   "source": [
    "cpu_v1_result.shape"
   ]
  },
  {
   "cell_type": "markdown",
   "metadata": {},
   "source": [
    "### CPU V2"
   ]
  },
  {
   "cell_type": "code",
   "execution_count": null,
   "metadata": {},
   "outputs": [],
   "source": [
    "@jit(parallel=True, cache=True)\n",
    "def subtraction_vector2(a,b):\n",
    "    for i in prange(a.shape[0]):\n",
    "        for j in prange(a.shape[0]):\n",
    "            for k in prange(a.shape[1]):\n",
    "                b[a.shape[0]*i+j][k]=a[i][k]-a[j][k]\n"
   ]
  },
  {
   "cell_type": "code",
   "execution_count": null,
   "metadata": {},
   "outputs": [],
   "source": [
    "start = time.time()\n",
    "cpu_v2=np.empty((matrix.shape[0]*matrix.shape[0],matrix.shape[1]),dtype=float)\n",
    "subtraction_vector2(matrix,cpu_v2)\n",
    "end = time.time()\n",
    "print(f'Processing time: {end - start} s')"
   ]
  },
  {
   "cell_type": "markdown",
   "metadata": {},
   "source": [
    "### GPU"
   ]
  },
  {
   "cell_type": "code",
   "execution_count": 2,
   "metadata": {},
   "outputs": [],
   "source": [
    "\n",
    "@cuda.jit\n",
    "def calc_cosine_similarity(arr,result):\n",
    "    # # Caclculate euclidean distance between users, perform parallelization here\n",
    "    c, r = cuda.grid(2)\n",
    "\n",
    "    if r < arr.shape[0] and c < arr.shape[1]:\n",
    "        for i in range(arr.shape[0]):\n",
    "            result[arr.shape[0] * i + r][c] = arr[i][c] - arr[r][c]"
   ]
  },
  {
   "cell_type": "code",
   "execution_count": 13,
   "metadata": {},
   "outputs": [],
   "source": [
    "# matrix=np.array([[12,13,14,10],[7,8,89,21],[1,2,3,4]])\n",
    "\n"
   ]
  },
  {
   "cell_type": "code",
   "execution_count": 14,
   "metadata": {},
   "outputs": [],
   "source": [
    "def subtraction_two_vector(matrix):    \n",
    "    result_gpu = np.empty((matrix.shape[0]*matrix.shape[0], matrix.shape[1]), dtype=float)\n",
    "\n",
    "\n",
    "    block_size = (32, 32)\n",
    "    grid_size = (math.ceil(result_gpu.shape[1] / block_size[0]),\n",
    "                math.ceil(result_gpu.shape[0] / block_size[1]))\n",
    "\n",
    "    print(\"SIZE BLock\",grid_size)\n",
    "    start = time.time()\n",
    "    calc_cosine_similarity[grid_size, block_size](matrix,result_gpu)\n",
    "    end = time.time()\n",
    "    print(f'Processing time: {end - start} s')\n",
    "    return result_gpu"
   ]
  },
  {
   "cell_type": "code",
   "execution_count": 25,
   "metadata": {},
   "outputs": [
    {
     "name": "stdout",
     "output_type": "stream",
     "text": [
      "SIZE BLock (313, 79)\n",
      "Processing time: 0.12616395950317383 s\n"
     ]
    }
   ],
   "source": [
    "result_gpu=subtraction_two_vector(matrix)"
   ]
  },
  {
   "cell_type": "code",
   "execution_count": 16,
   "metadata": {},
   "outputs": [],
   "source": [
    "\n",
    "@cuda.jit\n",
    "\n",
    "def calculate_row_sums_gpu(matrix, row_sums):\n",
    "    tid = cuda.threadIdx.x + cuda.blockIdx.x * cuda.blockDim.x\n",
    "    r = cuda.blockIdx.y * cuda.blockDim.y + cuda.threadIdx.y\n",
    "\n",
    "    if tid < matrix.shape[0]:\n",
    "        row_sum = 0\n",
    "        for i in range(matrix.shape[1]):\n",
    "            row_sum += matrix[tid, i]*matrix[tid, i]\n",
    "        row_sums[r][tid] = sqrt(row_sum)"
   ]
  },
  {
   "cell_type": "code",
   "execution_count": 17,
   "metadata": {},
   "outputs": [],
   "source": [
    "\n",
    "def sumRow(result_gpu,matrix):\n",
    "    start = time.time()\n",
    "\n",
    "    # matrix_gpu = cuda.to_device(matrix)\n",
    "    matrix_gpu = cuda.to_device(result_gpu)\n",
    "\n",
    "    # row_sums_gpu = cuda.device_array(matrix.shape[0])\n",
    "    row_sums_gpu = np.zeros((matrix.shape[0],matrix.shape[0]), dtype=float)\n",
    "\n",
    "\n",
    "    threads_per_block = 32\n",
    "    blocks_per_grid = (matrix.shape[0] - 1) // threads_per_block + 1\n",
    "    print('threads_per_block',threads_per_block)\n",
    "    print('block_size',blocks_per_grid)\n",
    "    cuda.synchronize()\n",
    "\n",
    "    calculate_row_sums_gpu[blocks_per_grid, threads_per_block](matrix_gpu, row_sums_gpu)\n",
    "    cuda.synchronize()\n",
    "\n",
    "    # row_sums = row_sums_gpu.copy_to_host()\n",
    "\n",
    "    end = time.time()\n",
    "    print(f'Processing time: {end - start} s')\n",
    "    return row_sums_gpu"
   ]
  },
  {
   "cell_type": "code",
   "execution_count": 21,
   "metadata": {},
   "outputs": [
    {
     "name": "stdout",
     "output_type": "stream",
     "text": [
      "threads_per_block 32\n",
      "block_size 2\n",
      "Processing time: 0.029976606369018555 s\n"
     ]
    }
   ],
   "source": [
    "row_sums_gpu=sumRow(result_gpu,matrix)"
   ]
  },
  {
   "cell_type": "code",
   "execution_count": 22,
   "metadata": {},
   "outputs": [
    {
     "data": {
      "text/plain": [
       "array([[    0.        , 40154.64328045, 40386.7797716 , ...,\n",
       "        40615.08295082, 40488.11066018, 40469.0464757 ],\n",
       "       [40154.64328045,     0.        , 40285.27892805, ...,\n",
       "            0.        ,     0.        ,     0.        ],\n",
       "       [    0.        ,     0.        ,     0.        , ...,\n",
       "            0.        ,     0.        ,     0.        ],\n",
       "       ...,\n",
       "       [    0.        ,     0.        ,     0.        , ...,\n",
       "            0.        ,     0.        ,     0.        ],\n",
       "       [    0.        ,     0.        ,     0.        , ...,\n",
       "            0.        ,     0.        ,     0.        ],\n",
       "       [    0.        ,     0.        ,     0.        , ...,\n",
       "            0.        ,     0.        ,     0.        ]])"
      ]
     },
     "execution_count": 22,
     "metadata": {},
     "output_type": "execute_result"
    }
   ],
   "source": [
    "row_sums_gpu\n"
   ]
  },
  {
   "cell_type": "code",
   "execution_count": 58,
   "metadata": {},
   "outputs": [],
   "source": []
  },
  {
   "cell_type": "markdown",
   "metadata": {},
   "source": [
    "### GPU Full"
   ]
  },
  {
   "cell_type": "code",
   "execution_count": 63,
   "metadata": {},
   "outputs": [],
   "source": [
    "def subtraction_two_vector(matrix):    \n",
    "    result_gpu = np.empty((matrix.shape[0]*matrix.shape[0], matrix.shape[1]), dtype=float)\n",
    "\n",
    "\n",
    "    block_size = (32, 32)\n",
    "    grid_size = (math.ceil(result_gpu.shape[1] / block_size[0]),\n",
    "                math.ceil(result_gpu.shape[0] / block_size[1]))\n",
    "\n",
    "    print(\"SIZE BLock\",grid_size)\n",
    "    calc_cosine_similarity[grid_size, block_size](matrix,result_gpu)\n",
    "    return result_gpu"
   ]
  },
  {
   "cell_type": "code",
   "execution_count": 64,
   "metadata": {},
   "outputs": [],
   "source": [
    "\n",
    "def sumRow(result_gpu,matrix):\n",
    "    # matrix_gpu = cuda.to_device(matrix)\n",
    "    matrix_gpu = cuda.to_device(result_gpu)\n",
    "\n",
    "    # row_sums_gpu = cuda.device_array(matrix.shape[0])\n",
    "    row_sums_gpu = np.zeros((matrix.shape[0],matrix.shape[0]), dtype=float)\n",
    "\n",
    "\n",
    "    threads_per_block = 32\n",
    "    blocks_per_grid = (matrix.shape[0] - 1) // threads_per_block + 1\n",
    "    print('threads_per_block',threads_per_block)\n",
    "    print('block_size',blocks_per_grid)\n",
    "    cuda.synchronize()\n",
    "\n",
    "    calculate_row_sums_gpu[blocks_per_grid, threads_per_block](matrix_gpu, row_sums_gpu)\n",
    "    cuda.synchronize()\n",
    "\n",
    "    # row_sums = row_sums_gpu.copy_to_host()\n",
    "\n",
    "    return row_sums_gpu"
   ]
  },
  {
   "cell_type": "code",
   "execution_count": 6,
   "metadata": {},
   "outputs": [
    {
     "ename": "NameError",
     "evalue": "name 'time' is not defined",
     "output_type": "error",
     "traceback": [
      "\u001b[1;31m---------------------------------------------------------------------------\u001b[0m",
      "\u001b[1;31mNameError\u001b[0m                                 Traceback (most recent call last)",
      "Cell \u001b[1;32mIn[6], line 1\u001b[0m\n\u001b[1;32m----> 1\u001b[0m start \u001b[38;5;241m=\u001b[39m time\u001b[38;5;241m.\u001b[39mtime()\n\u001b[0;32m      3\u001b[0m result_gpu\u001b[38;5;241m=\u001b[39msubtraction_two_vector(matrix)\n\u001b[0;32m      4\u001b[0m row_sums_gpu\u001b[38;5;241m=\u001b[39msumRow(result_gpu,matrix)\n",
      "\u001b[1;31mNameError\u001b[0m: name 'time' is not defined"
     ]
    }
   ],
   "source": [
    "start = time.time()\n",
    "\n",
    "result_gpu=subtraction_two_vector(matrix)\n",
    "row_sums_gpu=sumRow(result_gpu,matrix)\n",
    "euclidean_distance_matrix = np.array(row_sums_gpu).T\n",
    "A_sparse = sparse.csr_matrix(euclidean_distance_matrix) \n",
    "cosine_similarities_gpu = cosine_similarity(A_sparse)\n",
    "\n",
    "end = time.time()\n",
    "print(f'Processing time: {end - start} s')\n",
    "\n"
   ]
  },
  {
   "cell_type": "markdown",
   "metadata": {},
   "source": [
    "### GPU V2"
   ]
  },
  {
   "cell_type": "code",
   "execution_count": null,
   "metadata": {},
   "outputs": [],
   "source": [
    "@cuda.jit\n",
    "def calculate_euclidean_distances(arr, result):\n",
    "    i, j = cuda.grid(2)\n",
    "    if i < arr.shape[0] and j < arr.shape[0]:\n",
    "        euclidean_calc = 0\n",
    "        for k in range(arr.shape[1]):\n",
    "            ele = arr[i, k] - arr[j, k]\n",
    "            if not (ele != ele):  \n",
    "                euclidean_calc += ele * ele\n",
    "        result[i, j] = sqrt(euclidean_calc)\n",
    "\n",
    "def calc_cosine_similarity_gpu(arr):\n",
    "    # Calculate euclidean distance using CUDA\n",
    "    euclidean_distance_matrix = np.empty((arr.shape[0], arr.shape[0]), dtype=np.float32)\n",
    "    threadsperblock = (16, 16)\n",
    "    blockspergrid_x = (arr.shape[0] + threadsperblock[0] - 1) // threadsperblock[0]\n",
    "    blockspergrid_y = (arr.shape[0] + threadsperblock[1] - 1) // threadsperblock[1]\n",
    "    blockspergrid = (blockspergrid_x, blockspergrid_y)\n",
    "    calculate_euclidean_distances[blockspergrid, threadsperblock](arr, euclidean_distance_matrix)\n",
    "\n",
    "    # Calculate cosine similarity on the CPU\n",
    "    euclidean_distance_matrix = euclidean_distance_matrix.T\n",
    "    A_sparse = sparse.csr_matrix(euclidean_distance_matrix)\n",
    "    cosine_similarities = cosine_similarity(A_sparse)\n",
    "\n",
    "    return cosine_similarities\n",
    "\n",
    "start = time.time()\n",
    "result=calc_cosine_similarity_gpu(matrix)\n",
    "end = time.time()\n",
    "\n",
    "print(f'Processing time: {end - start} s')"
   ]
  },
  {
   "cell_type": "markdown",
   "metadata": {},
   "source": [
    "#### Check result between CPU and GPU"
   ]
  },
  {
   "cell_type": "code",
   "execution_count": 78,
   "metadata": {},
   "outputs": [
    {
     "data": {
      "text/plain": [
       "0.10919053223778277"
      ]
     },
     "execution_count": 78,
     "metadata": {},
     "output_type": "execute_result"
    }
   ],
   "source": [
    "np.mean(np.abs(cosine_similarities_gpu - cpu_v1_result))"
   ]
  },
  {
   "cell_type": "code",
   "execution_count": null,
   "metadata": {},
   "outputs": [],
   "source": []
  }
 ],
 "metadata": {
  "kernelspec": {
   "display_name": "Python 3 (ipykernel)",
   "language": "python",
   "name": "python3"
  },
  "language_info": {
   "codemirror_mode": {
    "name": "ipython",
    "version": 3
   },
   "file_extension": ".py",
   "mimetype": "text/x-python",
   "name": "python",
   "nbconvert_exporter": "python",
   "pygments_lexer": "ipython3",
   "version": "3.11.3"
  }
 },
 "nbformat": 4,
 "nbformat_minor": 2
}
