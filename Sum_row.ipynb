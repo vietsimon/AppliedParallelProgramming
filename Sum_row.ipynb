{
  "nbformat": 4,
  "nbformat_minor": 0,
  "metadata": {
    "colab": {
      "provenance": [],
      "gpuType": "T4"
    },
    "kernelspec": {
      "name": "python3",
      "display_name": "Python 3"
    },
    "language_info": {
      "name": "python"
    },
    "accelerator": "GPU"
  },
  "cells": [
    {
      "cell_type": "code",
      "source": [
        "!pip install numba"
      ],
      "metadata": {
        "colab": {
          "base_uri": "https://localhost:8080/"
        },
        "id": "Ajuch8IPP4Hj",
        "outputId": "b51d8544-f94f-4651-8adb-1e750f2c4bb5"
      },
      "execution_count": 2,
      "outputs": [
        {
          "output_type": "stream",
          "name": "stdout",
          "text": [
            "Requirement already satisfied: numba in /usr/local/lib/python3.10/dist-packages (0.56.4)\n",
            "Requirement already satisfied: llvmlite<0.40,>=0.39.0dev0 in /usr/local/lib/python3.10/dist-packages (from numba) (0.39.1)\n",
            "Requirement already satisfied: numpy<1.24,>=1.18 in /usr/local/lib/python3.10/dist-packages (from numba) (1.22.4)\n",
            "Requirement already satisfied: setuptools in /usr/local/lib/python3.10/dist-packages (from numba) (67.7.2)\n"
          ]
        }
      ]
    },
    {
      "cell_type": "code",
      "execution_count": 3,
      "metadata": {
        "id": "TwsvdHOnAyF_"
      },
      "outputs": [],
      "source": [
        "import numpy as np\n",
        "\n",
        "# Mảng ví dụ\n",
        "matrix = np.random.randint(10, 1000, size=(10000, 10000))\n",
        "\n",
        "np.savetxt('imat1.gz', matrix, fmt='%i')\n"
      ]
    },
    {
      "cell_type": "code",
      "source": [
        "# Tuần tự\n",
        "%%writefile sequential1.py\n",
        "import time\n",
        "import numpy as np\n",
        "\n",
        "# Hàm tính sum row\n",
        "def calculate_row_sums(matrix):\n",
        "    row_sums = np.zeros(matrix.shape[0], dtype=np.int32)\n",
        "    for i in range(matrix.shape[0]):\n",
        "        row_sums[i] = np.sum(matrix[i])\n",
        "    return row_sums\n",
        "\n",
        "matrix = np.loadtxt('imat1.gz', dtype=int)\n",
        "\n",
        "# Start\n",
        "start = time.time()\n",
        "\n",
        "row_sums = calculate_row_sums(matrix)\n",
        "\n",
        "end = time.time()\n",
        "\n",
        "print(f'Processing time: {end - start} s')\n",
        "\n",
        "np.savetxt('omat_s1.gz', row_sums, fmt='%i')\n"
      ],
      "metadata": {
        "id": "Im22syQ-B5k6",
        "colab": {
          "base_uri": "https://localhost:8080/"
        },
        "outputId": "85ea968a-8f4b-4c55-fa65-b81e0b90256d"
      },
      "execution_count": 4,
      "outputs": [
        {
          "output_type": "stream",
          "name": "stdout",
          "text": [
            "Writing sequential1.py\n"
          ]
        }
      ]
    },
    {
      "cell_type": "code",
      "source": [
        "!python sequential1.py"
      ],
      "metadata": {
        "id": "OAkQL4cQCPM2",
        "colab": {
          "base_uri": "https://localhost:8080/"
        },
        "outputId": "c036677f-f2b7-43f5-bd7d-624d501774b6"
      },
      "execution_count": 5,
      "outputs": [
        {
          "output_type": "stream",
          "name": "stdout",
          "text": [
            "Processing time: 0.12828278541564941 s\n"
          ]
        }
      ]
    },
    {
      "cell_type": "code",
      "source": [
        "# Song song\n",
        "%%writefile parallel1.py\n",
        "import time\n",
        "import math\n",
        "import numpy as np\n",
        "from numba import jit, cuda\n",
        "\n",
        "@cuda.jit\n",
        "\n",
        "# Hàm tính sum dùng gpu\n",
        "def calculate_row_sums_gpu(matrix, row_sums):\n",
        "    tid = cuda.threadIdx.x + cuda.blockIdx.x * cuda.blockDim.x\n",
        "    if tid < matrix.shape[0]:\n",
        "        row_sum = 0\n",
        "        for i in range(matrix.shape[1]):\n",
        "            row_sum += matrix[tid, i]\n",
        "        row_sums[tid] = row_sum\n",
        "\n",
        "\n",
        "matrix = np.loadtxt('imat1.gz', dtype=int)\n",
        "\n",
        "matrix_gpu = cuda.to_device(matrix)\n",
        "row_sums_gpu = cuda.device_array(matrix.shape[0])\n",
        "\n",
        "threads_per_block = 32\n",
        "blocks_per_grid = (matrix.shape[0] - 1) // threads_per_block + 1\n",
        "\n",
        "# Start\n",
        "start = time.time()\n",
        "calculate_row_sums_gpu[blocks_per_grid, threads_per_block](matrix_gpu, row_sums_gpu)\n",
        "end = time.time()\n",
        "\n",
        "row_sums = row_sums_gpu.copy_to_host()\n",
        "print(f'Processing time: {end - start} s')\n",
        "\n",
        "np.savetxt('omat_p1.gz', row_sums, fmt='%i')"
      ],
      "metadata": {
        "id": "Wce6OyUxCQ5e",
        "colab": {
          "base_uri": "https://localhost:8080/"
        },
        "outputId": "468fbd46-e247-4495-a671-adda7f556a78"
      },
      "execution_count": 6,
      "outputs": [
        {
          "output_type": "stream",
          "name": "stdout",
          "text": [
            "Writing parallel1.py\n"
          ]
        }
      ]
    },
    {
      "cell_type": "code",
      "source": [
        "!python parallel1.py # Lần chạy 1"
      ],
      "metadata": {
        "id": "t2ziGLdCEJEp",
        "colab": {
          "base_uri": "https://localhost:8080/"
        },
        "outputId": "45282caf-8619-447c-8723-8d4aa61eed5b"
      },
      "execution_count": 7,
      "outputs": [
        {
          "output_type": "stream",
          "name": "stdout",
          "text": [
            "Processing time: 0.8741281032562256 s\n"
          ]
        }
      ]
    },
    {
      "cell_type": "code",
      "source": [
        "!python parallel1.py # Lần chạy 2"
      ],
      "metadata": {
        "id": "diYwK_BwFDpv",
        "colab": {
          "base_uri": "https://localhost:8080/"
        },
        "outputId": "a7a59b64-3481-4cdf-881c-734cec5c79d0"
      },
      "execution_count": 8,
      "outputs": [
        {
          "output_type": "stream",
          "name": "stdout",
          "text": [
            "Processing time: 0.23253798484802246 s\n"
          ]
        }
      ]
    },
    {
      "cell_type": "code",
      "source": [
        "C_s1 = np.loadtxt('omat_s1.gz', dtype=int)\n",
        "C_p1 = np.loadtxt('omat_p1.gz', dtype=int)\n",
        "np.mean(np.abs(C_p1 - C_s1))"
      ],
      "metadata": {
        "colab": {
          "base_uri": "https://localhost:8080/"
        },
        "id": "l-oWnwPGB16P",
        "outputId": "fe826916-8b68-4fe0-8ab0-48d79b8ebc3a"
      },
      "execution_count": 9,
      "outputs": [
        {
          "output_type": "execute_result",
          "data": {
            "text/plain": [
              "0.0"
            ]
          },
          "metadata": {},
          "execution_count": 9
        }
      ]
    },
    {
      "cell_type": "code",
      "source": [
        "# Song song dùng shared memory\n",
        "%%writefile parallel2.py\n",
        "import time\n",
        "import math\n",
        "import numpy as np\n",
        "from numba import cuda, float32\n",
        "from numba import jit, cuda\n",
        "\n",
        "@cuda.jit\n",
        "\n",
        "def calculate_row_sums_gpu_smem(matrix, row_sums):\n",
        "    block_row = cuda.blockIdx.x\n",
        "    tid = cuda.threadIdx.x\n",
        "\n",
        "    # Cấp phát shared memory cho block\n",
        "    shared_mem = cuda.shared.array(shape=32, dtype=float32)  # Specify the correct type here\n",
        "\n",
        "    # Khởi tạo shared memory với mảng 0\n",
        "    shared_mem[tid] = 0.0\n",
        "    cuda.syncthreads()\n",
        "\n",
        "    for col in range(matrix.shape[1]):\n",
        "        if tid < matrix.shape[0]:\n",
        "            shared_mem[tid] += matrix[tid, col]\n",
        "\n",
        "    cuda.syncthreads()\n",
        "\n",
        "    s = 1\n",
        "    while s < cuda.blockDim.x:\n",
        "        idx = 2 * s * tid\n",
        "        if idx < cuda.blockDim.x:\n",
        "            shared_mem[idx] += shared_mem[idx + s]\n",
        "        s *= 2\n",
        "        cuda.syncthreads()\n",
        "\n",
        "    if tid == 0:\n",
        "        row_sums[block_row] = shared_mem[0]\n",
        "\n",
        "matrix = np.loadtxt('imat1.gz', dtype=int)\n",
        "\n",
        "matrix_gpu = cuda.to_device(matrix)\n",
        "row_sums_gpu = cuda.device_array(matrix.shape[0])\n",
        "\n",
        "threads_per_block = 32\n",
        "blocks_per_grid = (matrix.shape[0] - 1) // threads_per_block + 1\n",
        "\n",
        "# Start\n",
        "start = time.time()\n",
        "calculate_row_sums_gpu_smem[blocks_per_grid, threads_per_block](matrix_gpu, row_sums_gpu)\n",
        "end = time.time()\n",
        "\n",
        "row_sums = row_sums_gpu.copy_to_host()\n",
        "print(f'Processing time: {end - start} s')\n",
        "\n",
        "np.savetxt('omat_p2.gz', row_sums, fmt='%i')"
      ],
      "metadata": {
        "colab": {
          "base_uri": "https://localhost:8080/"
        },
        "id": "kaxPKrzEWX9f",
        "outputId": "703d46bf-4632-468c-8fb0-c1d3e2e84e88"
      },
      "execution_count": 10,
      "outputs": [
        {
          "output_type": "stream",
          "name": "stdout",
          "text": [
            "Writing parallel2.py\n"
          ]
        }
      ]
    },
    {
      "cell_type": "code",
      "source": [
        "!python parallel2.py # Lần chạy 1"
      ],
      "metadata": {
        "colab": {
          "base_uri": "https://localhost:8080/"
        },
        "id": "fPM9jOA3Z4aT",
        "outputId": "5510bf21-e894-419f-910f-0adb6b269169"
      },
      "execution_count": 11,
      "outputs": [
        {
          "output_type": "stream",
          "name": "stdout",
          "text": [
            "Processing time: 0.3311479091644287 s\n"
          ]
        }
      ]
    },
    {
      "cell_type": "code",
      "source": [
        "!python parallel2.py # Lần chạy 2"
      ],
      "metadata": {
        "id": "ncVx-64hZ4P1",
        "colab": {
          "base_uri": "https://localhost:8080/"
        },
        "outputId": "637bcbd2-557c-4a9d-9e4b-e10e57cf31fd"
      },
      "execution_count": 14,
      "outputs": [
        {
          "output_type": "stream",
          "name": "stdout",
          "text": [
            "Processing time: 0.28098416328430176 s\n"
          ]
        }
      ]
    },
    {
      "cell_type": "code",
      "source": [
        "C_s1 = np.loadtxt('omat_s1.gz', dtype=int)\n",
        "C_p2 = np.loadtxt('omat_p2.gz', dtype=int)\n",
        "np.mean(np.abs(C_p1 - C_s1))"
      ],
      "metadata": {
        "colab": {
          "base_uri": "https://localhost:8080/"
        },
        "id": "cXwCZh1PIFiQ",
        "outputId": "a1db4dc8-257b-484e-97d0-99e7150d1dcc"
      },
      "execution_count": 13,
      "outputs": [
        {
          "output_type": "execute_result",
          "data": {
            "text/plain": [
              "0.0"
            ]
          },
          "metadata": {},
          "execution_count": 13
        }
      ]
    }
  ]
}