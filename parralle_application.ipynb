{
 "cells": [
  {
   "cell_type": "code",
   "execution_count": 25,
   "metadata": {},
   "outputs": [],
   "source": [
    "import pandas as pd\n",
    "import numpy as np\n",
    "from math import *\n",
    "from sklearn.metrics.pairwise import cosine_similarity\n",
    "from scipy import sparse"
   ]
  },
  {
   "cell_type": "code",
   "execution_count": 2,
   "metadata": {},
   "outputs": [
    {
     "data": {
      "text/plain": [
       "array([[ 2., nan, nan,  5.,  1., nan],\n",
       "       [nan, nan,  3.,  4.,  3.,  1.],\n",
       "       [ 3.,  1.,  3., nan,  5., nan],\n",
       "       [nan,  4., nan, nan,  5.,  3.],\n",
       "       [nan,  1.,  2.,  3., nan, nan],\n",
       "       [ 1., nan,  2., nan,  2., nan]])"
      ]
     },
     "execution_count": 2,
     "metadata": {},
     "output_type": "execute_result"
    }
   ],
   "source": [
    "example_rating = np.array([[2,np.nan,np.nan,5,1,np.nan],[np.nan,np.nan,3,4,3,1],[3,1,3,np.nan,5,np.nan],\n",
    "                           [np.nan,4,np.nan,np.nan,5,3],[np.nan,1,2,3,np.nan,np.nan],[1,np.nan,2,np.nan,2,np.nan]])\n",
    "example_rating"
   ]
  },
  {
   "cell_type": "code",
   "execution_count": 3,
   "metadata": {},
   "outputs": [
    {
     "data": {
      "text/plain": [
       "array([[nan, nan,  3.,  4.,  3.,  1.],\n",
       "       [ 3.,  1.,  3., nan,  5., nan]])"
      ]
     },
     "execution_count": 3,
     "metadata": {},
     "output_type": "execute_result"
    }
   ],
   "source": [
    "selected_users = example_rating[1:3]\n",
    "selected_users"
   ]
  },
  {
   "cell_type": "code",
   "execution_count": 36,
   "metadata": {},
   "outputs": [
    {
     "name": "stdout",
     "output_type": "stream",
     "text": [
      "User 1: [nan nan  3.  4.  3.  1.]\n",
      "User 2: [ 2. nan nan  5.  1. nan]\n",
      "2.23606797749979\n",
      "User 1: [nan nan  3.  4.  3.  1.]\n",
      "User 2: [nan nan  3.  4.  3.  1.]\n",
      "0.0\n",
      "User 1: [nan nan  3.  4.  3.  1.]\n",
      "User 2: [ 3.  1.  3. nan  5. nan]\n",
      "2.0\n",
      "User 1: [nan nan  3.  4.  3.  1.]\n",
      "User 2: [nan  4. nan nan  5.  3.]\n",
      "2.8284271247461903\n",
      "User 1: [nan nan  3.  4.  3.  1.]\n",
      "User 2: [nan  1.  2.  3. nan nan]\n",
      "1.4142135623730951\n",
      "User 1: [nan nan  3.  4.  3.  1.]\n",
      "User 2: [ 1. nan  2. nan  2. nan]\n",
      "1.4142135623730951\n",
      "User 1: [ 3.  1.  3. nan  5. nan]\n",
      "User 2: [ 2. nan nan  5.  1. nan]\n",
      "4.123105625617661\n",
      "User 1: [ 3.  1.  3. nan  5. nan]\n",
      "User 2: [nan nan  3.  4.  3.  1.]\n",
      "2.0\n",
      "User 1: [ 3.  1.  3. nan  5. nan]\n",
      "User 2: [ 3.  1.  3. nan  5. nan]\n",
      "0.0\n",
      "User 1: [ 3.  1.  3. nan  5. nan]\n",
      "User 2: [nan  4. nan nan  5.  3.]\n",
      "3.0\n",
      "User 1: [ 3.  1.  3. nan  5. nan]\n",
      "User 2: [nan  1.  2.  3. nan nan]\n",
      "1.0\n",
      "User 1: [ 3.  1.  3. nan  5. nan]\n",
      "User 2: [ 1. nan  2. nan  2. nan]\n",
      "3.7416573867739413\n"
     ]
    }
   ],
   "source": [
    "euclidean_distance_matrix = []\n",
    "for i in selected_users:\n",
    "    user_distance = []\n",
    "    for j in example_rating:\n",
    "        print(\"User 1:\",i)\n",
    "        print(\"User 2:\",j)\n",
    "        vector_distance = i - j\n",
    "        euclidean_calc = 0\n",
    "        for ele in vector_distance:\n",
    "            if isnan(ele) == False:\n",
    "                euclidean_calc += ele*ele\n",
    "        user_distance.append(sqrt(euclidean_calc))\n",
    "        print(sqrt(euclidean_calc))\n",
    "    euclidean_distance_matrix.append(user_distance)"
   ]
  },
  {
   "cell_type": "code",
   "execution_count": 37,
   "metadata": {},
   "outputs": [
    {
     "data": {
      "text/plain": [
       "array([[2.23606798, 4.12310563],\n",
       "       [0.        , 2.        ],\n",
       "       [2.        , 0.        ],\n",
       "       [2.82842712, 3.        ],\n",
       "       [1.41421356, 1.        ],\n",
       "       [1.41421356, 3.74165739]])"
      ]
     },
     "execution_count": 37,
     "metadata": {},
     "output_type": "execute_result"
    }
   ],
   "source": [
    "euclidean_distance_matrix = np.array(euclidean_distance_matrix).T\n",
    "euclidean_distance_matrix"
   ]
  },
  {
   "cell_type": "code",
   "execution_count": 38,
   "metadata": {},
   "outputs": [
    {
     "data": {
      "text/plain": [
       "array([[1.  , 0.88, 0.48, 0.97, 0.9 , 0.99],\n",
       "       [0.88, 1.  , 0.  , 0.73, 0.58, 0.94],\n",
       "       [0.48, 0.  , 1.  , 0.69, 0.82, 0.35],\n",
       "       [0.97, 0.73, 0.69, 1.  , 0.98, 0.92],\n",
       "       [0.9 , 0.58, 0.82, 0.98, 1.  , 0.83],\n",
       "       [0.99, 0.94, 0.35, 0.92, 0.83, 1.  ]])"
      ]
     },
     "execution_count": 38,
     "metadata": {},
     "output_type": "execute_result"
    }
   ],
   "source": [
    "A_sparse = sparse.csr_matrix(euclidean_distance_matrix)\n",
    "cosine_similarities = cosine_similarity(A_sparse)\n",
    "cosine_similarities.round(2)"
   ]
  },
  {
   "cell_type": "code",
   "execution_count": null,
   "metadata": {},
   "outputs": [],
   "source": [
    "def calc_cosine_similarity(arr):\n",
    "    \n",
    "    # Caclculate euclidean distance between users, perform parallelization here\n",
    "    euclidean_distance_matrix = []\n",
    "    for i in arr:\n",
    "        user_distance = []\n",
    "        for j in arr:\n",
    "            vector_distance = i - j\n",
    "            euclidean_calc = 0\n",
    "            for ele in vector_distance:\n",
    "                if isnan(ele) == False:\n",
    "                    euclidean_calc += ele*ele\n",
    "            user_distance.append(sqrt(euclidean_calc))\n",
    "        euclidean_distance_matrix.append(user_distance)\n",
    "\n",
    "    # Calculate cosine similarity\n",
    "    euclidean_distance_matrix = np.array(euclidean_distance_matrix).T\n",
    "    A_sparse = sparse.csr_matrix(euclidean_distance_matrix)\n",
    "    cosine_similarities = cosine_similarity(A_sparse)\n",
    "\n",
    "    return cosine_similarities"
   ]
  }
 ],
 "metadata": {
  "kernelspec": {
   "display_name": "Python 3",
   "language": "python",
   "name": "python3"
  },
  "language_info": {
   "codemirror_mode": {
    "name": "ipython",
    "version": 3
   },
   "file_extension": ".py",
   "mimetype": "text/x-python",
   "name": "python",
   "nbconvert_exporter": "python",
   "pygments_lexer": "ipython3",
   "version": "3.10.2"
  },
  "orig_nbformat": 4
 },
 "nbformat": 4,
 "nbformat_minor": 2
}
