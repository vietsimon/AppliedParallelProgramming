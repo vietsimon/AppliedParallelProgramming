{
  "cells": [
    {
      "cell_type": "markdown",
      "metadata": {},
      "source": [
        "#### 2. Recommendation Efficiency"
      ]
    },
    {
      "cell_type": "code",
      "execution_count": null,
      "metadata": {
        "id": "H5JbP2yanLxr",
        "outputId": "04bae45d-ac19-4902-87b9-3146f38a37d0"
      },
      "outputs": [
        {
          "name": "stdout",
          "output_type": "stream",
          "text": [
            "MAE:  1.6655550762496887\n"
          ]
        }
      ],
      "source": [
        "mae = mean_absolute_error(predicted_df['stars'], predicted_df['predicted_stars'])\n",
        "print(\"MAE: \",mae)"
      ]
    },
    {
      "attachments": {},
      "cell_type": "markdown",
      "metadata": {
        "id": "ag9dUjAprAHQ"
      },
      "source": [
        "Recommendation efficiency ở bài toán này sẽ đánh giá khả năng đề xuất của hệ thống trên tập test có thời gian đánh giá mới nhất so với các đánh giá cũ để kiểm tra xem qua khoảng thời gian nhất định biểu hiện hành vi của người dùng như thế nào tập dữ liệu. Cách đánh giá sẽ tập trung vào top N số lượng phim được đề xuất cho một user bất kỳ và ta sẽ kiểm tra xem trong top N có bao nhiêu phim thực sự đã được rating bởi người dùng.\n",
        "\n",
        "Công thức sẽ sử dụng được gọi là Precision@k như sau:\n",
        "\n",
        "**P = (# of top k recommendations that are relevant)/(# of items that are recommended)**\n",
        "\n",
        "\n",
        "<p><img src=\"https://cdn.discordapp.com/attachments/895583585518620708/1101876809294950430/image.png\"></img></p>"
      ]
    },
    {
      "cell_type": "code",
      "execution_count": null,
      "metadata": {
        "id": "v5GQ_uo1nLxr"
      },
      "outputs": [],
      "source": [
        "test_users = list(test_df['author'].unique())"
      ]
    },
    {
      "cell_type": "code",
      "execution_count": null,
      "metadata": {
        "id": "0MzWDmDxnLxr",
        "outputId": "72b32792-527b-4347-9417-4d7526adbe33"
      },
      "outputs": [
        {
          "name": "stdout",
          "output_type": "stream",
          "text": [
            "0.01571999999999998\n"
          ]
        }
      ],
      "source": [
        "user_limit = 5000\n",
        "item_limit = 10\n",
        "\n",
        "total_hit = 0\n",
        "count = 0\n",
        "for user in test_users[:user_limit]:\n",
        "    user_rating = test_df[test_df['author'] == user]\n",
        "    recommend_movies = get_recommend_movies(movie_neighborhood,final_review,user,item_limit,mode='favorite')\n",
        "    valid_movies = list(user_rating[user_rating['stars'] >= 7]['imdb_id'])\n",
        "    invalid_movies = list(user_rating[user_rating['stars'] < 5]['imdb_id'])\n",
        "    recommend_hit = (len(list(set(recommend_movies).intersection(valid_movies))) - len(list(set(recommend_movies).intersection(invalid_movies)))) / item_limit\n",
        "    # precisionK\n",
        "    total_hit+=recommend_hit\n",
        "    count+=1\n",
        "\n",
        "print(total_hit/count)"
      ]
    },
    {
      "attachments": {},
      "cell_type": "markdown",
      "metadata": {},
      "source": [
        "Độ chính xác của tập dữ liệu rơi vào khoảng 1.5%, rất thấp so với một mô hình có thể sử dụng được. Có nhiều lý do cho việc này như ta đã đề cập từ trước do các user có hành vi khác thường khiến mô hình bị sai lệch so với thực tế hay các phim trong tập kiểm thử không so bằng với các phim trong tập đề xuất khiến chúng bị rơi ra khỏi tập đề xuất. "
      ]
    },
    {
      "attachments": {},
      "cell_type": "markdown",
      "metadata": {},
      "source": [
        "Sau khi thực hiện, nhóm để ý thấy vị trí được đề xuất trong tập đề xuất cũng rất quan trọng khi độ chính xác của mô hình sẽ được thể hiện trực tiếp nếu các bộ phim trong tập kiểm thử có các vị trí top cao trong tập đề xuất. Qua đó, chúng em tìm hiểu và thực hiện đánh giá theo công thức Average precision (AP):\n",
        "\n",
        "<p><img src=\"https://i0.wp.com/neptune.ai/wp-content/uploads/2022/10/Recommender-Systems-ML-Metrics-vs-Business-Metrics_27.png?resize=480%2C86&ssl=1\"></img></p>\n",
        "\n",
        "<p><img src=\"https://i0.wp.com/neptune.ai/wp-content/uploads/2022/10/Recommender-Systems-ML-Metrics-vs-Business-Metrics_6.png?resize=792%2C229&ssl=1\"></img></p>"
      ]
    },
    {
      "cell_type": "code",
      "execution_count": null,
      "metadata": {
        "id": "EJM8w8UpnLxr"
      },
      "outputs": [],
      "source": [
        "def avg_precision(recommendation_hit):\n",
        "    count = 1\n",
        "    hit = 0\n",
        "    precision = 0\n",
        "    for i in recommendation_hit:\n",
        "        if i == 1:\n",
        "            hit+=1\n",
        "            precision+=  hit / count\n",
        "        count+=1\n",
        "    if hit == 0 :\n",
        "        return 0\n",
        "    else:\n",
        "        return precision / hit"
      ]
    },
    {
      "cell_type": "code",
      "execution_count": null,
      "metadata": {
        "id": "ZdjK52npnLxs",
        "outputId": "c894003f-3c21-4587-a565-c3b0e41b29b5"
      },
      "outputs": [
        {
          "name": "stdout",
          "output_type": "stream",
          "text": [
            "0.05066791345427054\n"
          ]
        }
      ],
      "source": [
        "user_limit = 5000\n",
        "item_limit = 10\n",
        "mean_avg_prec_K = 0\n",
        "for user in test_users[:user_limit]:\n",
        "    user_rating = test_df[test_df['author'] == user]\n",
        "    recommend_movies = get_recommend_movies(movie_neighborhood,final_review,user,10,mode='favorite')\n",
        "    valid_movies = list(user_rating[user_rating['stars'] >= 7]['imdb_id'])\n",
        "    recommendation_hit = avg_precision([1 if i in valid_movies else 0 for i in recommend_movies])\n",
        "    mean_avg_prec_K+= recommendation_hit\n",
        "    #break\n",
        "print(mean_avg_prec_K / user_limit)"
      ]
    },
    {
      "attachments": {},
      "cell_type": "markdown",
      "metadata": {},
      "source": [
        "Độ chính xác sau khi sử dụng AP đã tăng lên 5% chứng tỏ các bộ phim trong tập kiểm thử thực sự có xuất hiện trong tập đề xuất đều đứng ở vị trí rất cao khiến độ chính xác cao hơn so với Precision@K"
      ]
    },
    {
      "attachments": {},
      "cell_type": "markdown",
      "metadata": {},
      "source": [
        "## Reference"
      ]
    },
    {
      "attachments": {},
      "cell_type": "markdown",
      "metadata": {},
      "source": [
        "https://neptune.ai/blog/recommender-systems-metrics#:~:text=Average%20reciprocal%20hit%20rank%20(ARHR,of%20the%20first%20correct%20item\n",
        "\n",
        "https://www.geeksforgeeks.org/cosine-similarity/\n",
        "\n",
        "https://medium.com/@aliozan_memetoglu/4-collaborative-filtering-and-knn-f997f8993256\n",
        "\n",
        "https://link.springer.com/article/10.1007/s10479-016-2367-1\n",
        "\n",
        "https://www.datarevenue.com/en-blog/building-a-production-ready-recommendation-system"
      ]
    }
  ],
  "metadata": {
    "colab": {
      "provenance": []
    },
    "kernelspec": {
      "display_name": "Python 3",
      "language": "python",
      "name": "python3"
    },
    "language_info": {
      "codemirror_mode": {
        "name": "ipython",
        "version": 3
      },
      "file_extension": ".py",
      "mimetype": "text/x-python",
      "name": "python",
      "nbconvert_exporter": "python",
      "pygments_lexer": "ipython3",
      "version": "3.10.2"
    },
    "orig_nbformat": 4
  },
  "nbformat": 4,
  "nbformat_minor": 0
}
