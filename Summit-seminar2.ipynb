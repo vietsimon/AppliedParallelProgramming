{
  "cells": [
    {
      "cell_type": "code",
      "execution_count": 3,
      "metadata": {
        "id": "zRm7DuA2tnd6"
      },
      "outputs": [],
      "source": [
        "import pypyodbc\n",
        "import pandas as pd\n",
        "import numpy as np\n",
        "from math import *\n",
        "from sklearn.metrics.pairwise import cosine_similarity\n",
        "from scipy import sparse\n",
        "from scipy.spatial.distance import cdist\n",
        "\n",
        "from scipy.spatial.distance import squareform\n",
        "from scipy.spatial.distance import pdist, jaccard\n",
        "import time\n",
        "\n",
        "from numba import jit, cuda,config,prange\n",
        "import math\n"
      ]
    },
    {
      "cell_type": "markdown",
      "metadata": {
        "id": "zUzFuCEXtnd9"
      },
      "source": [
        "#### Read Data from Files"
      ]
    },
    {
      "cell_type": "code",
      "execution_count": 5,
      "metadata": {
        "id": "CucKkiVItnd-"
      },
      "outputs": [],
      "source": [
        "movie_id = \"imdb_id\"\n",
        "author_username = \"author\"\n",
        "ratings = \"stars\"\n",
        "\n",
        "train_df = pd.read_csv(\"training_set.csv\")\n",
        "# test_df = pd.read_csv(\"testing_set.csv\")"
      ]
    },
    {
      "cell_type": "code",
      "execution_count": 6,
      "metadata": {
        "id": "Kvip36uQtnd_",
        "outputId": "b3e1ebd3-6345-497d-89ba-292bfa9ded82"
      },
      "outputs": [
        {
          "data": {
            "text/html": [
              "<div>\n",
              "<style scoped>\n",
              "    .dataframe tbody tr th:only-of-type {\n",
              "        vertical-align: middle;\n",
              "    }\n",
              "\n",
              "    .dataframe tbody tr th {\n",
              "        vertical-align: top;\n",
              "    }\n",
              "\n",
              "    .dataframe thead th {\n",
              "        text-align: right;\n",
              "    }\n",
              "</style>\n",
              "<table border=\"1\" class=\"dataframe\">\n",
              "  <thead>\n",
              "    <tr style=\"text-align: right;\">\n",
              "      <th></th>\n",
              "      <th>date</th>\n",
              "      <th>imdb_id</th>\n",
              "      <th>author</th>\n",
              "      <th>stars</th>\n",
              "    </tr>\n",
              "  </thead>\n",
              "  <tbody>\n",
              "    <tr>\n",
              "      <th>0</th>\n",
              "      <td>2022-07-21</td>\n",
              "      <td>tt0765010</td>\n",
              "      <td>nicktusk-95591</td>\n",
              "      <td>7</td>\n",
              "    </tr>\n",
              "    <tr>\n",
              "      <th>1</th>\n",
              "      <td>2022-05-01</td>\n",
              "      <td>tt0765010</td>\n",
              "      <td>peterwixongb</td>\n",
              "      <td>7</td>\n",
              "    </tr>\n",
              "    <tr>\n",
              "      <th>2</th>\n",
              "      <td>2022-01-19</td>\n",
              "      <td>tt0765010</td>\n",
              "      <td>kamsitheprince</td>\n",
              "      <td>9</td>\n",
              "    </tr>\n",
              "    <tr>\n",
              "      <th>3</th>\n",
              "      <td>2021-09-08</td>\n",
              "      <td>tt0765010</td>\n",
              "      <td>zacharyrivas21</td>\n",
              "      <td>7</td>\n",
              "    </tr>\n",
              "    <tr>\n",
              "      <th>4</th>\n",
              "      <td>2021-08-11</td>\n",
              "      <td>tt0765010</td>\n",
              "      <td>SameirAli</td>\n",
              "      <td>7</td>\n",
              "    </tr>\n",
              "    <tr>\n",
              "      <th>...</th>\n",
              "      <td>...</td>\n",
              "      <td>...</td>\n",
              "      <td>...</td>\n",
              "      <td>...</td>\n",
              "    </tr>\n",
              "    <tr>\n",
              "      <th>365643</th>\n",
              "      <td>2006-12-28</td>\n",
              "      <td>tt0454082</td>\n",
              "      <td>superduperspit</td>\n",
              "      <td>5</td>\n",
              "    </tr>\n",
              "    <tr>\n",
              "      <th>365644</th>\n",
              "      <td>2006-12-26</td>\n",
              "      <td>tt0454082</td>\n",
              "      <td>FrightMeter</td>\n",
              "      <td>9</td>\n",
              "    </tr>\n",
              "    <tr>\n",
              "      <th>365645</th>\n",
              "      <td>2006-12-25</td>\n",
              "      <td>tt0454082</td>\n",
              "      <td>sackjigler</td>\n",
              "      <td>7</td>\n",
              "    </tr>\n",
              "    <tr>\n",
              "      <th>365646</th>\n",
              "      <td>2006-12-25</td>\n",
              "      <td>tt0454082</td>\n",
              "      <td>Nightman85</td>\n",
              "      <td>3</td>\n",
              "    </tr>\n",
              "    <tr>\n",
              "      <th>365647</th>\n",
              "      <td>2006-12-25</td>\n",
              "      <td>tt0454082</td>\n",
              "      <td>drownsoda90</td>\n",
              "      <td>8</td>\n",
              "    </tr>\n",
              "  </tbody>\n",
              "</table>\n",
              "<p>365648 rows × 4 columns</p>\n",
              "</div>"
            ],
            "text/plain": [
              "              date    imdb_id          author  stars\n",
              "0       2022-07-21  tt0765010  nicktusk-95591      7\n",
              "1       2022-05-01  tt0765010    peterwixongb      7\n",
              "2       2022-01-19  tt0765010  kamsitheprince      9\n",
              "3       2021-09-08  tt0765010  zacharyrivas21      7\n",
              "4       2021-08-11  tt0765010       SameirAli      7\n",
              "...            ...        ...             ...    ...\n",
              "365643  2006-12-28  tt0454082  superduperspit      5\n",
              "365644  2006-12-26  tt0454082     FrightMeter      9\n",
              "365645  2006-12-25  tt0454082      sackjigler      7\n",
              "365646  2006-12-25  tt0454082      Nightman85      3\n",
              "365647  2006-12-25  tt0454082     drownsoda90      8\n",
              "\n",
              "[365648 rows x 4 columns]"
            ]
          },
          "execution_count": 6,
          "metadata": {},
          "output_type": "execute_result"
        }
      ],
      "source": [
        "train_df"
      ]
    },
    {
      "cell_type": "markdown",
      "metadata": {
        "id": "MWmWLbi6tnd_"
      },
      "source": [
        "#### Build matrix from users and movies"
      ]
    },
    {
      "cell_type": "code",
      "execution_count": 7,
      "metadata": {
        "id": "Ytp28paatneA",
        "outputId": "36184f12-5148-4f86-b645-8cba55a727df"
      },
      "outputs": [
        {
          "data": {
            "text/html": [
              "<div>\n",
              "<style scoped>\n",
              "    .dataframe tbody tr th:only-of-type {\n",
              "        vertical-align: middle;\n",
              "    }\n",
              "\n",
              "    .dataframe tbody tr th {\n",
              "        vertical-align: top;\n",
              "    }\n",
              "\n",
              "    .dataframe thead th {\n",
              "        text-align: right;\n",
              "    }\n",
              "</style>\n",
              "<table border=\"1\" class=\"dataframe\">\n",
              "  <thead>\n",
              "    <tr style=\"text-align: right;\">\n",
              "      <th>imdb_id</th>\n",
              "      <th>author</th>\n",
              "      <th>tt0000417</th>\n",
              "      <th>tt0010323</th>\n",
              "      <th>tt0013442</th>\n",
              "      <th>tt0015648</th>\n",
              "      <th>tt0015864</th>\n",
              "      <th>tt0017136</th>\n",
              "      <th>tt0020629</th>\n",
              "      <th>tt0021749</th>\n",
              "      <th>tt0021814</th>\n",
              "      <th>...</th>\n",
              "      <th>tt9772374</th>\n",
              "      <th>tt9777666</th>\n",
              "      <th>tt9783600</th>\n",
              "      <th>tt9784456</th>\n",
              "      <th>tt9784798</th>\n",
              "      <th>tt9794630</th>\n",
              "      <th>tt9844522</th>\n",
              "      <th>tt9845564</th>\n",
              "      <th>tt9848626</th>\n",
              "      <th>tt9907782</th>\n",
              "    </tr>\n",
              "  </thead>\n",
              "  <tbody>\n",
              "    <tr>\n",
              "      <th>0</th>\n",
              "      <td>007Waffles</td>\n",
              "      <td>NaN</td>\n",
              "      <td>NaN</td>\n",
              "      <td>NaN</td>\n",
              "      <td>NaN</td>\n",
              "      <td>NaN</td>\n",
              "      <td>NaN</td>\n",
              "      <td>NaN</td>\n",
              "      <td>NaN</td>\n",
              "      <td>NaN</td>\n",
              "      <td>...</td>\n",
              "      <td>NaN</td>\n",
              "      <td>7.0</td>\n",
              "      <td>NaN</td>\n",
              "      <td>NaN</td>\n",
              "      <td>NaN</td>\n",
              "      <td>NaN</td>\n",
              "      <td>NaN</td>\n",
              "      <td>NaN</td>\n",
              "      <td>NaN</td>\n",
              "      <td>NaN</td>\n",
              "    </tr>\n",
              "    <tr>\n",
              "      <th>1</th>\n",
              "      <td>00Yasser</td>\n",
              "      <td>NaN</td>\n",
              "      <td>NaN</td>\n",
              "      <td>NaN</td>\n",
              "      <td>NaN</td>\n",
              "      <td>NaN</td>\n",
              "      <td>NaN</td>\n",
              "      <td>NaN</td>\n",
              "      <td>NaN</td>\n",
              "      <td>NaN</td>\n",
              "      <td>...</td>\n",
              "      <td>NaN</td>\n",
              "      <td>NaN</td>\n",
              "      <td>NaN</td>\n",
              "      <td>NaN</td>\n",
              "      <td>NaN</td>\n",
              "      <td>NaN</td>\n",
              "      <td>NaN</td>\n",
              "      <td>NaN</td>\n",
              "      <td>NaN</td>\n",
              "      <td>NaN</td>\n",
              "    </tr>\n",
              "    <tr>\n",
              "      <th>2</th>\n",
              "      <td>04GreatFlick</td>\n",
              "      <td>NaN</td>\n",
              "      <td>NaN</td>\n",
              "      <td>NaN</td>\n",
              "      <td>NaN</td>\n",
              "      <td>NaN</td>\n",
              "      <td>NaN</td>\n",
              "      <td>NaN</td>\n",
              "      <td>NaN</td>\n",
              "      <td>NaN</td>\n",
              "      <td>...</td>\n",
              "      <td>NaN</td>\n",
              "      <td>NaN</td>\n",
              "      <td>NaN</td>\n",
              "      <td>NaN</td>\n",
              "      <td>NaN</td>\n",
              "      <td>NaN</td>\n",
              "      <td>NaN</td>\n",
              "      <td>NaN</td>\n",
              "      <td>NaN</td>\n",
              "      <td>NaN</td>\n",
              "    </tr>\n",
              "    <tr>\n",
              "      <th>3</th>\n",
              "      <td>0maro0</td>\n",
              "      <td>NaN</td>\n",
              "      <td>NaN</td>\n",
              "      <td>NaN</td>\n",
              "      <td>NaN</td>\n",
              "      <td>NaN</td>\n",
              "      <td>NaN</td>\n",
              "      <td>NaN</td>\n",
              "      <td>NaN</td>\n",
              "      <td>NaN</td>\n",
              "      <td>...</td>\n",
              "      <td>NaN</td>\n",
              "      <td>NaN</td>\n",
              "      <td>NaN</td>\n",
              "      <td>NaN</td>\n",
              "      <td>NaN</td>\n",
              "      <td>NaN</td>\n",
              "      <td>NaN</td>\n",
              "      <td>NaN</td>\n",
              "      <td>NaN</td>\n",
              "      <td>NaN</td>\n",
              "    </tr>\n",
              "    <tr>\n",
              "      <th>4</th>\n",
              "      <td>0w0</td>\n",
              "      <td>NaN</td>\n",
              "      <td>NaN</td>\n",
              "      <td>NaN</td>\n",
              "      <td>NaN</td>\n",
              "      <td>NaN</td>\n",
              "      <td>NaN</td>\n",
              "      <td>NaN</td>\n",
              "      <td>NaN</td>\n",
              "      <td>NaN</td>\n",
              "      <td>...</td>\n",
              "      <td>NaN</td>\n",
              "      <td>NaN</td>\n",
              "      <td>NaN</td>\n",
              "      <td>NaN</td>\n",
              "      <td>NaN</td>\n",
              "      <td>NaN</td>\n",
              "      <td>NaN</td>\n",
              "      <td>NaN</td>\n",
              "      <td>NaN</td>\n",
              "      <td>NaN</td>\n",
              "    </tr>\n",
              "    <tr>\n",
              "      <th>...</th>\n",
              "      <td>...</td>\n",
              "      <td>...</td>\n",
              "      <td>...</td>\n",
              "      <td>...</td>\n",
              "      <td>...</td>\n",
              "      <td>...</td>\n",
              "      <td>...</td>\n",
              "      <td>...</td>\n",
              "      <td>...</td>\n",
              "      <td>...</td>\n",
              "      <td>...</td>\n",
              "      <td>...</td>\n",
              "      <td>...</td>\n",
              "      <td>...</td>\n",
              "      <td>...</td>\n",
              "      <td>...</td>\n",
              "      <td>...</td>\n",
              "      <td>...</td>\n",
              "      <td>...</td>\n",
              "      <td>...</td>\n",
              "      <td>...</td>\n",
              "    </tr>\n",
              "    <tr>\n",
              "      <th>995</th>\n",
              "      <td>Farzad-Doosti</td>\n",
              "      <td>NaN</td>\n",
              "      <td>NaN</td>\n",
              "      <td>NaN</td>\n",
              "      <td>NaN</td>\n",
              "      <td>NaN</td>\n",
              "      <td>NaN</td>\n",
              "      <td>NaN</td>\n",
              "      <td>NaN</td>\n",
              "      <td>NaN</td>\n",
              "      <td>...</td>\n",
              "      <td>NaN</td>\n",
              "      <td>NaN</td>\n",
              "      <td>NaN</td>\n",
              "      <td>NaN</td>\n",
              "      <td>NaN</td>\n",
              "      <td>NaN</td>\n",
              "      <td>NaN</td>\n",
              "      <td>NaN</td>\n",
              "      <td>NaN</td>\n",
              "      <td>NaN</td>\n",
              "    </tr>\n",
              "    <tr>\n",
              "      <th>996</th>\n",
              "      <td>FatMan-QaTFM</td>\n",
              "      <td>NaN</td>\n",
              "      <td>NaN</td>\n",
              "      <td>NaN</td>\n",
              "      <td>NaN</td>\n",
              "      <td>NaN</td>\n",
              "      <td>NaN</td>\n",
              "      <td>NaN</td>\n",
              "      <td>NaN</td>\n",
              "      <td>NaN</td>\n",
              "      <td>...</td>\n",
              "      <td>NaN</td>\n",
              "      <td>NaN</td>\n",
              "      <td>NaN</td>\n",
              "      <td>NaN</td>\n",
              "      <td>NaN</td>\n",
              "      <td>NaN</td>\n",
              "      <td>NaN</td>\n",
              "      <td>NaN</td>\n",
              "      <td>NaN</td>\n",
              "      <td>NaN</td>\n",
              "    </tr>\n",
              "    <tr>\n",
              "      <th>997</th>\n",
              "      <td>FattyBoomBatty</td>\n",
              "      <td>NaN</td>\n",
              "      <td>NaN</td>\n",
              "      <td>NaN</td>\n",
              "      <td>NaN</td>\n",
              "      <td>NaN</td>\n",
              "      <td>NaN</td>\n",
              "      <td>NaN</td>\n",
              "      <td>NaN</td>\n",
              "      <td>NaN</td>\n",
              "      <td>...</td>\n",
              "      <td>NaN</td>\n",
              "      <td>4.0</td>\n",
              "      <td>NaN</td>\n",
              "      <td>NaN</td>\n",
              "      <td>NaN</td>\n",
              "      <td>NaN</td>\n",
              "      <td>NaN</td>\n",
              "      <td>NaN</td>\n",
              "      <td>NaN</td>\n",
              "      <td>NaN</td>\n",
              "    </tr>\n",
              "    <tr>\n",
              "      <th>998</th>\n",
              "      <td>FeastMode</td>\n",
              "      <td>NaN</td>\n",
              "      <td>NaN</td>\n",
              "      <td>NaN</td>\n",
              "      <td>NaN</td>\n",
              "      <td>NaN</td>\n",
              "      <td>NaN</td>\n",
              "      <td>NaN</td>\n",
              "      <td>NaN</td>\n",
              "      <td>NaN</td>\n",
              "      <td>...</td>\n",
              "      <td>NaN</td>\n",
              "      <td>NaN</td>\n",
              "      <td>NaN</td>\n",
              "      <td>NaN</td>\n",
              "      <td>NaN</td>\n",
              "      <td>NaN</td>\n",
              "      <td>NaN</td>\n",
              "      <td>NaN</td>\n",
              "      <td>NaN</td>\n",
              "      <td>NaN</td>\n",
              "    </tr>\n",
              "    <tr>\n",
              "      <th>999</th>\n",
              "      <td>Feel-the-truth</td>\n",
              "      <td>NaN</td>\n",
              "      <td>NaN</td>\n",
              "      <td>NaN</td>\n",
              "      <td>NaN</td>\n",
              "      <td>NaN</td>\n",
              "      <td>NaN</td>\n",
              "      <td>NaN</td>\n",
              "      <td>NaN</td>\n",
              "      <td>NaN</td>\n",
              "      <td>...</td>\n",
              "      <td>NaN</td>\n",
              "      <td>NaN</td>\n",
              "      <td>NaN</td>\n",
              "      <td>NaN</td>\n",
              "      <td>NaN</td>\n",
              "      <td>NaN</td>\n",
              "      <td>NaN</td>\n",
              "      <td>NaN</td>\n",
              "      <td>NaN</td>\n",
              "      <td>NaN</td>\n",
              "    </tr>\n",
              "  </tbody>\n",
              "</table>\n",
              "<p>1000 rows × 3090 columns</p>\n",
              "</div>"
            ],
            "text/plain": [
              "imdb_id          author  tt0000417  tt0010323  tt0013442  tt0015648  \\\n",
              "0            007Waffles        NaN        NaN        NaN        NaN   \n",
              "1              00Yasser        NaN        NaN        NaN        NaN   \n",
              "2          04GreatFlick        NaN        NaN        NaN        NaN   \n",
              "3                0maro0        NaN        NaN        NaN        NaN   \n",
              "4                   0w0        NaN        NaN        NaN        NaN   \n",
              "..                  ...        ...        ...        ...        ...   \n",
              "995       Farzad-Doosti        NaN        NaN        NaN        NaN   \n",
              "996        FatMan-QaTFM        NaN        NaN        NaN        NaN   \n",
              "997      FattyBoomBatty        NaN        NaN        NaN        NaN   \n",
              "998           FeastMode        NaN        NaN        NaN        NaN   \n",
              "999      Feel-the-truth        NaN        NaN        NaN        NaN   \n",
              "\n",
              "imdb_id  tt0015864  tt0017136  tt0020629  tt0021749  tt0021814  ...  \\\n",
              "0              NaN        NaN        NaN        NaN        NaN  ...   \n",
              "1              NaN        NaN        NaN        NaN        NaN  ...   \n",
              "2              NaN        NaN        NaN        NaN        NaN  ...   \n",
              "3              NaN        NaN        NaN        NaN        NaN  ...   \n",
              "4              NaN        NaN        NaN        NaN        NaN  ...   \n",
              "..             ...        ...        ...        ...        ...  ...   \n",
              "995            NaN        NaN        NaN        NaN        NaN  ...   \n",
              "996            NaN        NaN        NaN        NaN        NaN  ...   \n",
              "997            NaN        NaN        NaN        NaN        NaN  ...   \n",
              "998            NaN        NaN        NaN        NaN        NaN  ...   \n",
              "999            NaN        NaN        NaN        NaN        NaN  ...   \n",
              "\n",
              "imdb_id  tt9772374  tt9777666  tt9783600  tt9784456  tt9784798  tt9794630  \\\n",
              "0              NaN        7.0        NaN        NaN        NaN        NaN   \n",
              "1              NaN        NaN        NaN        NaN        NaN        NaN   \n",
              "2              NaN        NaN        NaN        NaN        NaN        NaN   \n",
              "3              NaN        NaN        NaN        NaN        NaN        NaN   \n",
              "4              NaN        NaN        NaN        NaN        NaN        NaN   \n",
              "..             ...        ...        ...        ...        ...        ...   \n",
              "995            NaN        NaN        NaN        NaN        NaN        NaN   \n",
              "996            NaN        NaN        NaN        NaN        NaN        NaN   \n",
              "997            NaN        4.0        NaN        NaN        NaN        NaN   \n",
              "998            NaN        NaN        NaN        NaN        NaN        NaN   \n",
              "999            NaN        NaN        NaN        NaN        NaN        NaN   \n",
              "\n",
              "imdb_id  tt9844522  tt9845564  tt9848626  tt9907782  \n",
              "0              NaN        NaN        NaN        NaN  \n",
              "1              NaN        NaN        NaN        NaN  \n",
              "2              NaN        NaN        NaN        NaN  \n",
              "3              NaN        NaN        NaN        NaN  \n",
              "4              NaN        NaN        NaN        NaN  \n",
              "..             ...        ...        ...        ...  \n",
              "995            NaN        NaN        NaN        NaN  \n",
              "996            NaN        NaN        NaN        NaN  \n",
              "997            NaN        NaN        NaN        NaN  \n",
              "998            NaN        NaN        NaN        NaN  \n",
              "999            NaN        NaN        NaN        NaN  \n",
              "\n",
              "[1000 rows x 3090 columns]"
            ]
          },
          "execution_count": 7,
          "metadata": {},
          "output_type": "execute_result"
        }
      ],
      "source": [
        "df_matrix = train_df.pivot_table(index=author_username, columns=movie_id, values=ratings)\n",
        "df_matrix.reset_index(inplace=True)\n",
        "\n",
        "# Rút gọn còn 1000 user để test\n",
        "df_matrix = df_matrix[:1000]\n",
        "df_matrix"
      ]
    },
    {
      "cell_type": "code",
      "execution_count": null,
      "metadata": {
        "id": "rznwayZ_tneA"
      },
      "outputs": [],
      "source": [
        "# Time Calc"
      ]
    },
    {
      "cell_type": "markdown",
      "metadata": {
        "id": "nwuULN8StneB"
      },
      "source": [
        "#### Matrix Calculation"
      ]
    },
    {
      "cell_type": "code",
      "execution_count": 22,
      "metadata": {
        "id": "pF9lDi9uub_g"
      },
      "outputs": [
        {
          "data": {
            "text/plain": [
              "(1000, 3089)"
            ]
          },
          "execution_count": 22,
          "metadata": {},
          "output_type": "execute_result"
        }
      ],
      "source": [
        "matrix=np.array(df_matrix.iloc[:,1:])\n",
        "matrix.shape"
      ]
    },
    {
      "cell_type": "markdown",
      "metadata": {
        "id": "Kv6uz-4Pt0Ym"
      },
      "source": [
        "### CPU_V1"
      ]
    },
    {
      "cell_type": "code",
      "execution_count": 9,
      "metadata": {
        "id": "hcCAiLmxtneB"
      },
      "outputs": [],
      "source": [
        "def ecliean_distance_cpu1(arr):\n",
        "    # Caclculate euclidean distance between users, perform parallelization here\n",
        "    euclidean_distance_matrix = []\n",
        "    for i in arr:\n",
        "        user_distance = []\n",
        "        for j in arr:\n",
        "            vector_distance = i - j\n",
        "            euclidean_calc = 0\n",
        "            for ele in vector_distance:\n",
        "                if isnan(ele) == False:\n",
        "                    euclidean_calc += ele*ele\n",
        "            user_distance.append(sqrt(euclidean_calc))\n",
        "        euclidean_distance_matrix.append(user_distance)\n",
        "    return euclidean_distance_matrix"
      ]
    },
    {
      "cell_type": "code",
      "execution_count": 10,
      "metadata": {
        "id": "O9gua2u8tneC",
        "outputId": "4602e23a-81d3-4c5b-f0ff-4485349669b7"
      },
      "outputs": [
        {
          "name": "stdout",
          "output_type": "stream",
          "text": [
            "Processing time: 174.89578676223755 s\n"
          ]
        }
      ],
      "source": [
        "start = time.time()\n",
        "test_arr = ecliean_distance_cpu1(np.array(df_matrix.iloc[:,1:]))\n",
        "end = time.time()\n",
        "print(f'Processing time: {end - start} s')"
      ]
    },
    {
      "cell_type": "markdown",
      "metadata": {},
      "source": [
        "- Ta thấy thời gian tính ecliean_distance_cpu1 với kích thước (1000, 3089) mất khoảng 175s gần 3 phút thì nếu càng nhiều user thì  matrix sẽ càng lớn. Vì vậy đây là bước cần song song hóa."
      ]
    },
    {
      "cell_type": "code",
      "execution_count": 11,
      "metadata": {},
      "outputs": [
        {
          "name": "stdout",
          "output_type": "stream",
          "text": [
            "Processing time: 0.0400083065032959 s\n"
          ]
        }
      ],
      "source": [
        "# Transpose matrix\n",
        "start = time.time()\n",
        "euclidean_distance_matrix = np.array(test_arr).T\n",
        "end = time.time()\n",
        "print(f'Processing time: {end - start} s')"
      ]
    },
    {
      "cell_type": "code",
      "execution_count": 12,
      "metadata": {},
      "outputs": [
        {
          "name": "stdout",
          "output_type": "stream",
          "text": [
            "Processing time: 0.014703750610351562 s\n"
          ]
        }
      ],
      "source": [
        "start = time.time()\n",
        "A_sparse = sparse.csr_matrix(euclidean_distance_matrix)\n",
        "end = time.time()\n",
        "print(f'Processing time: {end - start} s')"
      ]
    },
    {
      "cell_type": "code",
      "execution_count": 13,
      "metadata": {},
      "outputs": [
        {
          "name": "stdout",
          "output_type": "stream",
          "text": [
            "Processing time: 0.15096640586853027 s\n"
          ]
        }
      ],
      "source": [
        "  # Calculate cosine similarity\n",
        "start = time.time()\n",
        "cosine_similarities = cosine_similarity(A_sparse)\n",
        "end = time.time()\n",
        "print(f'Processing time: {end - start} s')"
      ]
    },
    {
      "cell_type": "markdown",
      "metadata": {},
      "source": [
        "- Bước tính cosine similarity cũng có thể xem xét để song song hóa bằng GPU"
      ]
    },
    {
      "cell_type": "markdown",
      "metadata": {
        "id": "MNmnPWrit35c"
      },
      "source": [
        "### CPU_V2"
      ]
    },
    {
      "cell_type": "markdown",
      "metadata": {},
      "source": [
        "- Song song hóa bằng gpu"
      ]
    },
    {
      "cell_type": "code",
      "execution_count": 14,
      "metadata": {
        "id": "6t2E3bgHuFNE"
      },
      "outputs": [
        {
          "name": "stderr",
          "output_type": "stream",
          "text": [
            "/tmp/ipykernel_68394/2561284753.py:1: NumbaDeprecationWarning: The 'nopython' keyword argument was not supplied to the 'numba.jit' decorator. The implicit default value for this argument is currently False, but it will be changed to True in Numba 0.59.0. See https://numba.readthedocs.io/en/stable/reference/deprecation.html#deprecation-of-object-mode-fall-back-behaviour-when-using-jit for details.\n",
            "  @jit(parallel=True, cache=True)\n"
          ]
        }
      ],
      "source": [
        "@jit(parallel=True, cache=True)\n",
        "def ecliean_distance(a,c):\n",
        "    for i in prange(a.shape[0]):\n",
        "        for j in prange(a.shape[0]):\n",
        "            sumRow=0\n",
        "            for k in prange(a.shape[1]):\n",
        "                temp=a[i][k]-a[j][k]\n",
        "                if isnan(temp)==False:\n",
        "                    sumRow+=temp*temp\n",
        "            c[i][j]=sqrt(sumRow)"
      ]
    },
    {
      "cell_type": "code",
      "execution_count": 15,
      "metadata": {
        "id": "wQh0DZGVuIHU"
      },
      "outputs": [
        {
          "name": "stdout",
          "output_type": "stream",
          "text": [
            "Processing time: 2.073486089706421 s\n"
          ]
        }
      ],
      "source": [
        "start = time.time()\n",
        "cpu_v2=np.empty((matrix.shape[0],matrix.shape[0]),dtype=float)\n",
        "ecliean_distance(matrix,cpu_v2)\n",
        "\n",
        "end = time.time()\n",
        "print(f'Processing time: {end - start} s')"
      ]
    },
    {
      "cell_type": "markdown",
      "metadata": {},
      "source": [
        "- Tời gian cải thiện rất nhiều từ 175s xuống còn hơn 2s"
      ]
    },
    {
      "cell_type": "markdown",
      "metadata": {},
      "source": [
        "#### Check result "
      ]
    },
    {
      "cell_type": "code",
      "execution_count": 16,
      "metadata": {},
      "outputs": [
        {
          "data": {
            "text/plain": [
              "0.0"
            ]
          },
          "execution_count": 16,
          "metadata": {},
          "output_type": "execute_result"
        }
      ],
      "source": [
        "np.mean(np.abs(test_arr - cpu_v2))"
      ]
    },
    {
      "cell_type": "markdown",
      "metadata": {
        "id": "5Aedr1ihusjZ"
      },
      "source": [
        "# Mô tả song song"
      ]
    },
    {
      "cell_type": "markdown",
      "metadata": {
        "id": "2DwCzC6OurLB"
      },
      "source": [
        "- Input : matrix tương quan giữa người dùng và các bộ phim\n",
        "\n",
        "- Xác định số thread trên mỗi block `threadsperblock` là thread block 2 chiều với chiều x là 32 thread và y là 32 thread\n",
        "\n",
        "- Ta chia block cho mỗi grid bằng công thức:\n",
        "1. blockspergrid_x = (số dòng của euclidean_distance_matrix + 32 - 1) / 32 (32 là chiều x của thread)\n",
        "2. blockspergrid_y = (số dòng của euclidean_distance_matrix + 32 - 1) / 32 (32 là chiều y của thread)\n",
        "- Từ đó ta có kích thước của grid bằng (blockspergrid_x, blockspergrid_y)\n",
        "- Output : ma trận EC distance"
      ]
    },
    {
      "cell_type": "markdown",
      "metadata": {
        "id": "gP8hipQruAxm"
      },
      "source": [
        "### GPU"
      ]
    },
    {
      "cell_type": "code",
      "execution_count": 17,
      "metadata": {
        "id": "r4xw4wWquD5q"
      },
      "outputs": [],
      "source": [
        "# Calculate euclidean distance using CUDA\n",
        "@cuda.jit\n",
        "def calculate_euclidean_distances(arr, result):\n",
        "    c, r = cuda.grid(2)\n",
        "    if c < arr.shape[0] and r < arr.shape[0]:\n",
        "        euclidean_calc = 0\n",
        "        for k in range(arr.shape[1]):\n",
        "            ele = arr[r, k] - arr[c, k]\n",
        "            if isnan(ele) == False:\n",
        "                euclidean_calc += ele * ele\n",
        "        result[r, c] = sqrt(euclidean_calc)\n",
        "\n",
        "\n",
        "def call_kernel_gpu(arr):\n",
        "\n",
        "    arr = cuda.to_device(arr)\n",
        "    euclidean_distance_matrix = cuda.device_array((arr.shape[0], arr.shape[0]), dtype=np.float32)\n",
        "    #define thread\n",
        "    threadsperblock = (32, 32)\n",
        "    blockspergrid_x = (euclidean_distance_matrix.shape[0] + threadsperblock[0] - 1) // threadsperblock[0]\n",
        "    blockspergrid_y = (euclidean_distance_matrix.shape[0] + threadsperblock[1] - 1) // threadsperblock[1]\n",
        "    blockspergrid = (blockspergrid_x, blockspergrid_y)\n",
        "\n",
        "    #kernel\n",
        "    calculate_euclidean_distances[blockspergrid, threadsperblock](arr, euclidean_distance_matrix)\n",
        "\n",
        "    #copy to host\n",
        "    euclidean_distance_matrix_result = euclidean_distance_matrix.copy_to_host()\n",
        "    return euclidean_distance_matrix_result\n"
      ]
    },
    {
      "cell_type": "code",
      "execution_count": 18,
      "metadata": {
        "id": "X6yNIWI5uEDz"
      },
      "outputs": [
        {
          "name": "stdout",
          "output_type": "stream",
          "text": [
            "Processing time: 0.3079063892364502 s\n"
          ]
        }
      ],
      "source": [
        "\n",
        "start = time.time()\n",
        "\n",
        "result_gpu=call_kernel_gpu(matrix)\n",
        "end = time.time()\n",
        "\n",
        "print(f'Processing time: {end - start} s')\n"
      ]
    },
    {
      "cell_type": "markdown",
      "metadata": {},
      "source": [
        "- Khi song song hóa bằng GPU thời gian chỉ 0.3s cải thiện so với 2s song song CPU_V2"
      ]
    },
    {
      "cell_type": "markdown",
      "metadata": {},
      "source": [
        "#### Check result between CPU and GPU"
      ]
    },
    {
      "cell_type": "code",
      "execution_count": 20,
      "metadata": {},
      "outputs": [
        {
          "data": {
            "text/plain": [
              "1.536987306986015e-08"
            ]
          },
          "execution_count": 20,
          "metadata": {},
          "output_type": "execute_result"
        }
      ],
      "source": [
        "np.mean(np.abs(test_arr - result_gpu))"
      ]
    },
    {
      "cell_type": "code",
      "execution_count": 21,
      "metadata": {
        "id": "j66FJ391tneC",
        "outputId": "9c0bf9ee-e76b-4394-d487-460978348f93"
      },
      "outputs": [
        {
          "data": {
            "text/html": [
              "<div>\n",
              "<style scoped>\n",
              "    .dataframe tbody tr th:only-of-type {\n",
              "        vertical-align: middle;\n",
              "    }\n",
              "\n",
              "    .dataframe tbody tr th {\n",
              "        vertical-align: top;\n",
              "    }\n",
              "\n",
              "    .dataframe thead th {\n",
              "        text-align: right;\n",
              "    }\n",
              "</style>\n",
              "<table border=\"1\" class=\"dataframe\">\n",
              "  <thead>\n",
              "    <tr style=\"text-align: right;\">\n",
              "      <th></th>\n",
              "      <th>007Waffles</th>\n",
              "      <th>00Yasser</th>\n",
              "      <th>04GreatFlick</th>\n",
              "      <th>0maro0</th>\n",
              "      <th>0w0</th>\n",
              "      <th>108YearsOld</th>\n",
              "      <th>109YearsOld</th>\n",
              "      <th>10sion</th>\n",
              "      <th>121mcv</th>\n",
              "      <th>13Funbags</th>\n",
              "      <th>...</th>\n",
              "      <th>FallenEye</th>\n",
              "      <th>Fallenhazel</th>\n",
              "      <th>FallsDownz</th>\n",
              "      <th>FandomFanatic21</th>\n",
              "      <th>Faristuta</th>\n",
              "      <th>Farzad-Doosti</th>\n",
              "      <th>FatMan-QaTFM</th>\n",
              "      <th>FattyBoomBatty</th>\n",
              "      <th>FeastMode</th>\n",
              "      <th>Feel-the-truth</th>\n",
              "    </tr>\n",
              "  </thead>\n",
              "  <tbody>\n",
              "    <tr>\n",
              "      <th>007Waffles</th>\n",
              "      <td>1.000000</td>\n",
              "      <td>0.346984</td>\n",
              "      <td>0.298321</td>\n",
              "      <td>0.525135</td>\n",
              "      <td>0.542194</td>\n",
              "      <td>0.499928</td>\n",
              "      <td>0.539461</td>\n",
              "      <td>0.298269</td>\n",
              "      <td>0.238517</td>\n",
              "      <td>0.218292</td>\n",
              "      <td>...</td>\n",
              "      <td>0.532436</td>\n",
              "      <td>0.096788</td>\n",
              "      <td>0.283915</td>\n",
              "      <td>0.328332</td>\n",
              "      <td>0.495022</td>\n",
              "      <td>0.443352</td>\n",
              "      <td>0.262453</td>\n",
              "      <td>0.548754</td>\n",
              "      <td>0.525805</td>\n",
              "      <td>0.527876</td>\n",
              "    </tr>\n",
              "    <tr>\n",
              "      <th>00Yasser</th>\n",
              "      <td>0.346984</td>\n",
              "      <td>1.000000</td>\n",
              "      <td>0.086213</td>\n",
              "      <td>0.274337</td>\n",
              "      <td>0.431617</td>\n",
              "      <td>0.218397</td>\n",
              "      <td>0.155002</td>\n",
              "      <td>0.422531</td>\n",
              "      <td>0.111071</td>\n",
              "      <td>0.255042</td>\n",
              "      <td>...</td>\n",
              "      <td>0.384711</td>\n",
              "      <td>0.188673</td>\n",
              "      <td>0.250300</td>\n",
              "      <td>0.264460</td>\n",
              "      <td>0.361793</td>\n",
              "      <td>0.383920</td>\n",
              "      <td>0.234919</td>\n",
              "      <td>0.377100</td>\n",
              "      <td>0.424072</td>\n",
              "      <td>0.304166</td>\n",
              "    </tr>\n",
              "    <tr>\n",
              "      <th>04GreatFlick</th>\n",
              "      <td>0.298321</td>\n",
              "      <td>0.086213</td>\n",
              "      <td>1.000000</td>\n",
              "      <td>0.099290</td>\n",
              "      <td>0.151134</td>\n",
              "      <td>0.087695</td>\n",
              "      <td>0.203956</td>\n",
              "      <td>0.049861</td>\n",
              "      <td>0.076832</td>\n",
              "      <td>0.039455</td>\n",
              "      <td>...</td>\n",
              "      <td>0.136815</td>\n",
              "      <td>0.019153</td>\n",
              "      <td>0.014937</td>\n",
              "      <td>0.066025</td>\n",
              "      <td>0.204296</td>\n",
              "      <td>0.151518</td>\n",
              "      <td>0.051837</td>\n",
              "      <td>0.097185</td>\n",
              "      <td>0.141995</td>\n",
              "      <td>0.167211</td>\n",
              "    </tr>\n",
              "    <tr>\n",
              "      <th>0maro0</th>\n",
              "      <td>0.525135</td>\n",
              "      <td>0.274337</td>\n",
              "      <td>0.099290</td>\n",
              "      <td>1.000000</td>\n",
              "      <td>0.508081</td>\n",
              "      <td>0.394769</td>\n",
              "      <td>0.373947</td>\n",
              "      <td>0.328507</td>\n",
              "      <td>0.080608</td>\n",
              "      <td>0.253919</td>\n",
              "      <td>...</td>\n",
              "      <td>0.476631</td>\n",
              "      <td>0.117980</td>\n",
              "      <td>0.237520</td>\n",
              "      <td>0.353755</td>\n",
              "      <td>0.369462</td>\n",
              "      <td>0.329594</td>\n",
              "      <td>0.308251</td>\n",
              "      <td>0.549877</td>\n",
              "      <td>0.499983</td>\n",
              "      <td>0.396691</td>\n",
              "    </tr>\n",
              "    <tr>\n",
              "      <th>0w0</th>\n",
              "      <td>0.542194</td>\n",
              "      <td>0.431617</td>\n",
              "      <td>0.151134</td>\n",
              "      <td>0.508081</td>\n",
              "      <td>1.000000</td>\n",
              "      <td>0.436213</td>\n",
              "      <td>0.265203</td>\n",
              "      <td>0.646984</td>\n",
              "      <td>0.147164</td>\n",
              "      <td>0.384080</td>\n",
              "      <td>...</td>\n",
              "      <td>0.752121</td>\n",
              "      <td>0.251302</td>\n",
              "      <td>0.437168</td>\n",
              "      <td>0.472611</td>\n",
              "      <td>0.491372</td>\n",
              "      <td>0.528550</td>\n",
              "      <td>0.410372</td>\n",
              "      <td>0.477065</td>\n",
              "      <td>0.786068</td>\n",
              "      <td>0.488588</td>\n",
              "    </tr>\n",
              "    <tr>\n",
              "      <th>...</th>\n",
              "      <td>...</td>\n",
              "      <td>...</td>\n",
              "      <td>...</td>\n",
              "      <td>...</td>\n",
              "      <td>...</td>\n",
              "      <td>...</td>\n",
              "      <td>...</td>\n",
              "      <td>...</td>\n",
              "      <td>...</td>\n",
              "      <td>...</td>\n",
              "      <td>...</td>\n",
              "      <td>...</td>\n",
              "      <td>...</td>\n",
              "      <td>...</td>\n",
              "      <td>...</td>\n",
              "      <td>...</td>\n",
              "      <td>...</td>\n",
              "      <td>...</td>\n",
              "      <td>...</td>\n",
              "      <td>...</td>\n",
              "      <td>...</td>\n",
              "    </tr>\n",
              "    <tr>\n",
              "      <th>Farzad-Doosti</th>\n",
              "      <td>0.443352</td>\n",
              "      <td>0.383920</td>\n",
              "      <td>0.151518</td>\n",
              "      <td>0.329594</td>\n",
              "      <td>0.528550</td>\n",
              "      <td>0.353974</td>\n",
              "      <td>0.228761</td>\n",
              "      <td>0.525080</td>\n",
              "      <td>0.171012</td>\n",
              "      <td>0.282625</td>\n",
              "      <td>...</td>\n",
              "      <td>0.447172</td>\n",
              "      <td>0.224045</td>\n",
              "      <td>0.313303</td>\n",
              "      <td>0.273976</td>\n",
              "      <td>0.342757</td>\n",
              "      <td>1.000000</td>\n",
              "      <td>0.499574</td>\n",
              "      <td>0.337074</td>\n",
              "      <td>0.560237</td>\n",
              "      <td>0.301854</td>\n",
              "    </tr>\n",
              "    <tr>\n",
              "      <th>FatMan-QaTFM</th>\n",
              "      <td>0.262453</td>\n",
              "      <td>0.234919</td>\n",
              "      <td>0.051837</td>\n",
              "      <td>0.308251</td>\n",
              "      <td>0.410372</td>\n",
              "      <td>0.298770</td>\n",
              "      <td>0.133574</td>\n",
              "      <td>0.400379</td>\n",
              "      <td>0.040025</td>\n",
              "      <td>0.298456</td>\n",
              "      <td>...</td>\n",
              "      <td>0.340115</td>\n",
              "      <td>0.292653</td>\n",
              "      <td>0.267133</td>\n",
              "      <td>0.226746</td>\n",
              "      <td>0.206890</td>\n",
              "      <td>0.499574</td>\n",
              "      <td>1.000000</td>\n",
              "      <td>0.275361</td>\n",
              "      <td>0.526522</td>\n",
              "      <td>0.156300</td>\n",
              "    </tr>\n",
              "    <tr>\n",
              "      <th>FattyBoomBatty</th>\n",
              "      <td>0.548754</td>\n",
              "      <td>0.377100</td>\n",
              "      <td>0.097185</td>\n",
              "      <td>0.549877</td>\n",
              "      <td>0.477065</td>\n",
              "      <td>0.422036</td>\n",
              "      <td>0.312087</td>\n",
              "      <td>0.293309</td>\n",
              "      <td>0.094412</td>\n",
              "      <td>0.258691</td>\n",
              "      <td>...</td>\n",
              "      <td>0.487623</td>\n",
              "      <td>0.089018</td>\n",
              "      <td>0.293692</td>\n",
              "      <td>0.358466</td>\n",
              "      <td>0.392293</td>\n",
              "      <td>0.337074</td>\n",
              "      <td>0.275361</td>\n",
              "      <td>1.000000</td>\n",
              "      <td>0.473930</td>\n",
              "      <td>0.410705</td>\n",
              "    </tr>\n",
              "    <tr>\n",
              "      <th>FeastMode</th>\n",
              "      <td>0.525805</td>\n",
              "      <td>0.424072</td>\n",
              "      <td>0.141995</td>\n",
              "      <td>0.499983</td>\n",
              "      <td>0.786068</td>\n",
              "      <td>0.486637</td>\n",
              "      <td>0.293471</td>\n",
              "      <td>0.701135</td>\n",
              "      <td>0.123897</td>\n",
              "      <td>0.477344</td>\n",
              "      <td>...</td>\n",
              "      <td>0.722708</td>\n",
              "      <td>0.312644</td>\n",
              "      <td>0.428257</td>\n",
              "      <td>0.446255</td>\n",
              "      <td>0.480385</td>\n",
              "      <td>0.560237</td>\n",
              "      <td>0.526522</td>\n",
              "      <td>0.473930</td>\n",
              "      <td>1.000000</td>\n",
              "      <td>0.450352</td>\n",
              "    </tr>\n",
              "    <tr>\n",
              "      <th>Feel-the-truth</th>\n",
              "      <td>0.527876</td>\n",
              "      <td>0.304166</td>\n",
              "      <td>0.167211</td>\n",
              "      <td>0.396691</td>\n",
              "      <td>0.488588</td>\n",
              "      <td>0.376879</td>\n",
              "      <td>0.333261</td>\n",
              "      <td>0.254473</td>\n",
              "      <td>0.169216</td>\n",
              "      <td>0.261614</td>\n",
              "      <td>...</td>\n",
              "      <td>0.514654</td>\n",
              "      <td>0.047547</td>\n",
              "      <td>0.262256</td>\n",
              "      <td>0.442256</td>\n",
              "      <td>0.446440</td>\n",
              "      <td>0.301854</td>\n",
              "      <td>0.156300</td>\n",
              "      <td>0.410705</td>\n",
              "      <td>0.450352</td>\n",
              "      <td>1.000000</td>\n",
              "    </tr>\n",
              "  </tbody>\n",
              "</table>\n",
              "<p>1000 rows × 1000 columns</p>\n",
              "</div>"
            ],
            "text/plain": [
              "                007Waffles  00Yasser  04GreatFlick    0maro0       0w0  \\\n",
              "007Waffles        1.000000  0.346984      0.298321  0.525135  0.542194   \n",
              "00Yasser          0.346984  1.000000      0.086213  0.274337  0.431617   \n",
              "04GreatFlick      0.298321  0.086213      1.000000  0.099290  0.151134   \n",
              "0maro0            0.525135  0.274337      0.099290  1.000000  0.508081   \n",
              "0w0               0.542194  0.431617      0.151134  0.508081  1.000000   \n",
              "...                    ...       ...           ...       ...       ...   \n",
              "Farzad-Doosti     0.443352  0.383920      0.151518  0.329594  0.528550   \n",
              "FatMan-QaTFM      0.262453  0.234919      0.051837  0.308251  0.410372   \n",
              "FattyBoomBatty    0.548754  0.377100      0.097185  0.549877  0.477065   \n",
              "FeastMode         0.525805  0.424072      0.141995  0.499983  0.786068   \n",
              "Feel-the-truth    0.527876  0.304166      0.167211  0.396691  0.488588   \n",
              "\n",
              "                108YearsOld  109YearsOld    10sion    121mcv  13Funbags  ...  \\\n",
              "007Waffles         0.499928     0.539461  0.298269  0.238517   0.218292  ...   \n",
              "00Yasser           0.218397     0.155002  0.422531  0.111071   0.255042  ...   \n",
              "04GreatFlick       0.087695     0.203956  0.049861  0.076832   0.039455  ...   \n",
              "0maro0             0.394769     0.373947  0.328507  0.080608   0.253919  ...   \n",
              "0w0                0.436213     0.265203  0.646984  0.147164   0.384080  ...   \n",
              "...                     ...          ...       ...       ...        ...  ...   \n",
              "Farzad-Doosti      0.353974     0.228761  0.525080  0.171012   0.282625  ...   \n",
              "FatMan-QaTFM       0.298770     0.133574  0.400379  0.040025   0.298456  ...   \n",
              "FattyBoomBatty     0.422036     0.312087  0.293309  0.094412   0.258691  ...   \n",
              "FeastMode          0.486637     0.293471  0.701135  0.123897   0.477344  ...   \n",
              "Feel-the-truth     0.376879     0.333261  0.254473  0.169216   0.261614  ...   \n",
              "\n",
              "                FallenEye  Fallenhazel  FallsDownz  FandomFanatic21  \\\n",
              "007Waffles       0.532436     0.096788    0.283915         0.328332   \n",
              "00Yasser         0.384711     0.188673    0.250300         0.264460   \n",
              "04GreatFlick     0.136815     0.019153    0.014937         0.066025   \n",
              "0maro0           0.476631     0.117980    0.237520         0.353755   \n",
              "0w0              0.752121     0.251302    0.437168         0.472611   \n",
              "...                   ...          ...         ...              ...   \n",
              "Farzad-Doosti    0.447172     0.224045    0.313303         0.273976   \n",
              "FatMan-QaTFM     0.340115     0.292653    0.267133         0.226746   \n",
              "FattyBoomBatty   0.487623     0.089018    0.293692         0.358466   \n",
              "FeastMode        0.722708     0.312644    0.428257         0.446255   \n",
              "Feel-the-truth   0.514654     0.047547    0.262256         0.442256   \n",
              "\n",
              "                Faristuta  Farzad-Doosti  FatMan-QaTFM  FattyBoomBatty  \\\n",
              "007Waffles       0.495022       0.443352      0.262453        0.548754   \n",
              "00Yasser         0.361793       0.383920      0.234919        0.377100   \n",
              "04GreatFlick     0.204296       0.151518      0.051837        0.097185   \n",
              "0maro0           0.369462       0.329594      0.308251        0.549877   \n",
              "0w0              0.491372       0.528550      0.410372        0.477065   \n",
              "...                   ...            ...           ...             ...   \n",
              "Farzad-Doosti    0.342757       1.000000      0.499574        0.337074   \n",
              "FatMan-QaTFM     0.206890       0.499574      1.000000        0.275361   \n",
              "FattyBoomBatty   0.392293       0.337074      0.275361        1.000000   \n",
              "FeastMode        0.480385       0.560237      0.526522        0.473930   \n",
              "Feel-the-truth   0.446440       0.301854      0.156300        0.410705   \n",
              "\n",
              "                FeastMode  Feel-the-truth  \n",
              "007Waffles       0.525805        0.527876  \n",
              "00Yasser         0.424072        0.304166  \n",
              "04GreatFlick     0.141995        0.167211  \n",
              "0maro0           0.499983        0.396691  \n",
              "0w0              0.786068        0.488588  \n",
              "...                   ...             ...  \n",
              "Farzad-Doosti    0.560237        0.301854  \n",
              "FatMan-QaTFM     0.526522        0.156300  \n",
              "FattyBoomBatty   0.473930        0.410705  \n",
              "FeastMode        1.000000        0.450352  \n",
              "Feel-the-truth   0.450352        1.000000  \n",
              "\n",
              "[1000 rows x 1000 columns]"
            ]
          },
          "execution_count": 21,
          "metadata": {},
          "output_type": "execute_result"
        }
      ],
      "source": [
        "user_cosine_similarity = pd.DataFrame(data=cosine_similarities,index=list(df_matrix[author_username]),columns=list(df_matrix[author_username]))\n",
        "user_cosine_similarity"
      ]
    },
    {
      "cell_type": "markdown",
      "metadata": {
        "id": "i7vKQ_NmtneC"
      },
      "source": [
        "#### Xây dựng tập user Neighborhood"
      ]
    },
    {
      "cell_type": "markdown",
      "metadata": {
        "id": "bxvVtE39tneD"
      },
      "source": [
        "Xây dựng tập user Neighborhood theo phương pháp k-NN. Đối với từng user sẽ sở hữu các tập Neighborhood riêng được phân chia theo hệ số tương tự ở bảng <b>user_cosine_similarity</b>. Cách thực hiện như sau:\n",
        "\n",
        "- Loop qua từng user.\n",
        "- Đối với mỗi user ta tìm tập hợp top các user khác có hệ số tương tự đạt tiêu chuẩn.\n",
        "- Ta có thể đặt threshold lấy các user có hệ số tương tự cao ở mức 0.95 trở lên hoặc chọn top 100 user cao nhất làm tiêu chuẩn\n",
        "- Ta sẽ skip các user có độ tương tự = 1 bởi vì chúng là tương tự nhau, không đưa ra được các dữ kiện cần thiết cho mô hình."
      ]
    },
    {
      "cell_type": "code",
      "execution_count": null,
      "metadata": {
        "id": "KZvir0F-tneD"
      },
      "outputs": [],
      "source": [
        "# Construct Neighborhood\n",
        "# Chọn ra top 100 users có độ tương tự cao nhất là các neighbors\n",
        "K = 100\n",
        "neighborhood_combine = {}\n",
        "for user in user_cosine_similarity.columns:\n",
        "    #neighborhood = list(user_cosine_similarity[user][(user_cosine_similarity[user] > threshold) & (user_cosine_similarity[user] < user_cosine_similarity[user].max())].index)\n",
        "    neighborhood = list(user_cosine_similarity[user][(user_cosine_similarity[user] < user_cosine_similarity[user].max())].drop_duplicates(keep='first').nlargest(K).index)\n",
        "    neighborhood_combine[user] = neighborhood"
      ]
    },
    {
      "cell_type": "markdown",
      "metadata": {
        "id": "FVN5GtBjtneD"
      },
      "source": [
        "Để tăng độ chính xác của k-NN, ta có thể sử dụng thêm k-RNN (k-reciprocal nearest neighbours). Hai đối tượng được gọi là k-RNN của nhau nếu chúng nằm trong số k-NN (tập Neighborhood) của nhau. Như vậy, sau khi đã đạt được tập Neighborhood thì ta sẽ tiến hành kiểm tra tổng quát lại lần nữa dựa theo phương pháp này. Nếu như chúng không nằm trong tập của nhau thì ta sẽ tiến hành xóa nó khỏi tập đó."
      ]
    },
    {
      "cell_type": "code",
      "execution_count": null,
      "metadata": {
        "id": "vYli1Ae1tneD"
      },
      "outputs": [],
      "source": [
        "# Construct Neighborhood with expanded k-RNN\n",
        "# Kiểm tra đặc trưng Neighborhood lẫn nhau giữa một user so với các neighbors của chúng\n",
        "neighborhood_list = []\n",
        "neighborhood_combine_1 = neighborhood_combine.copy()\n",
        "for key,value in neighborhood_combine.items():\n",
        "    for v in value:\n",
        "        if key in neighborhood_combine[v]:\n",
        "            continue\n",
        "        else:\n",
        "            neighborhood_combine[key].remove(v)"
      ]
    },
    {
      "cell_type": "markdown",
      "metadata": {
        "id": "XpumBMZ8tneD"
      },
      "source": [
        "Thực chất, có một vấn đề đối với xử lý này là trong quá trình lược bỏ các user trong tập Neighborhood sẽ có các user mặc dù không nằm trong nhau nhưng lại có hệ số tương tự cao (>0.9) thì ta có thể xem xét không cần lược bỏ các user này đi. Tuy nhiên, ta cần test độ chính xác đối với cách làm này trước khi thực hiện cách thứ hai."
      ]
    },
    {
      "cell_type": "code",
      "execution_count": null,
      "metadata": {
        "id": "Z5SY4_hStneD"
      },
      "outputs": [],
      "source": [
        "def calc_Neighborhood_kNN(user_arr):\n",
        "    K = 100\n",
        "    neighborhood_combine = {}\n",
        "    for user in user_arr.columns:\n",
        "        neighborhood = list(user_arr[user][(user_arr[user] < user_arr[user].max())].drop_duplicates(keep='first').nlargest(K).index)\n",
        "        neighborhood_combine[user] = neighborhood\n",
        "\n",
        "    for key,value in neighborhood_combine.items():\n",
        "        for v in value:\n",
        "            if key in neighborhood_combine[v]:\n",
        "                continue\n",
        "            else:\n",
        "                neighborhood_combine[key].remove(v)\n",
        "\n",
        "    return neighborhood_combine"
      ]
    },
    {
      "cell_type": "code",
      "execution_count": null,
      "metadata": {
        "id": "xQBH8XUhtneD"
      },
      "outputs": [],
      "source": [
        "start = time.time()\n",
        "neighborhood_combine = calc_Neighborhood_kNN(user_cosine_similarity)\n",
        "end = time.time()\n",
        "print(f'Processing time: {end - start} s')"
      ]
    },
    {
      "cell_type": "markdown",
      "metadata": {
        "id": "K_BPYG4otneE"
      },
      "source": [
        "#### Demo recommend"
      ]
    },
    {
      "cell_type": "markdown",
      "metadata": {
        "id": "ltkHholJtneE"
      },
      "source": [
        "Với bảng hệ số tương quan của các user và tập Neighborhood đã xây dựng, ta sẽ tiến hành đi tìm các bộ phim có thể recommend cho người dùng. Cách làm như sau:\n",
        "\n",
        "- Chọn một người dùng **x** bất kỳ\n",
        "- Tìm tập hợp các bộ phim mà người dùng **x** đã xem (tập a)\n",
        "- Tìm các bộ phim **chung** mà các user trong tập Neighborhood của người dùng **x** này đã đều xem và rating (tập b)\n",
        "- Lọc bỏ tập a ra khỏi tập b thành tập b' (nếu có)\n",
        "- Tập b' lúc này chính là những bộ phim với rating mà người dùng **x** chưa xem nhưng được các user trong tập Neighborhood của người dùng **x** này đều đã xem.\n",
        "- Dựa vào hệ số tương tự đã tính, ta chọn ra các user cao nhất rồi xem đánh giá của họ đối với các bộ phim.\n",
        "- Chọn ra những bộ phim có rating cao đối với các user này rồi recommend cho người dùng **x**"
      ]
    },
    {
      "cell_type": "code",
      "execution_count": null,
      "metadata": {
        "id": "OU_vvCLEtneE",
        "outputId": "b3c4a9ea-ba1b-4490-948e-155ea38d6eb6"
      },
      "outputs": [
        {
          "name": "stdout",
          "output_type": "stream",
          "text": [
            "Top 10 bộ phim được khuyến khích cho user 007Waffles theo mức độ phổ biến\n"
          ]
        },
        {
          "data": {
            "text/html": [
              "<div>\n",
              "<style scoped>\n",
              "    .dataframe tbody tr th:only-of-type {\n",
              "        vertical-align: middle;\n",
              "    }\n",
              "\n",
              "    .dataframe tbody tr th {\n",
              "        vertical-align: top;\n",
              "    }\n",
              "\n",
              "    .dataframe thead th {\n",
              "        text-align: right;\n",
              "    }\n",
              "</style>\n",
              "<table border=\"1\" class=\"dataframe\">\n",
              "  <thead>\n",
              "    <tr style=\"text-align: right;\">\n",
              "      <th></th>\n",
              "      <th>movie</th>\n",
              "      <th>movie_score</th>\n",
              "    </tr>\n",
              "  </thead>\n",
              "  <tbody>\n",
              "    <tr>\n",
              "      <th>559</th>\n",
              "      <td>tt2382320</td>\n",
              "      <td>59.376279</td>\n",
              "    </tr>\n",
              "    <tr>\n",
              "      <th>573</th>\n",
              "      <td>tt2527338</td>\n",
              "      <td>56.607708</td>\n",
              "    </tr>\n",
              "    <tr>\n",
              "      <th>762</th>\n",
              "      <td>tt6264654</td>\n",
              "      <td>55.820094</td>\n",
              "    </tr>\n",
              "    <tr>\n",
              "      <th>650</th>\n",
              "      <td>tt4154796</td>\n",
              "      <td>50.676687</td>\n",
              "    </tr>\n",
              "    <tr>\n",
              "      <th>807</th>\n",
              "      <td>tt7131622</td>\n",
              "      <td>49.556791</td>\n",
              "    </tr>\n",
              "    <tr>\n",
              "      <th>659</th>\n",
              "      <td>tt4244994</td>\n",
              "      <td>49.455806</td>\n",
              "    </tr>\n",
              "    <tr>\n",
              "      <th>648</th>\n",
              "      <td>tt4154664</td>\n",
              "      <td>47.754708</td>\n",
              "    </tr>\n",
              "    <tr>\n",
              "      <th>449</th>\n",
              "      <td>tt1477834</td>\n",
              "      <td>46.217473</td>\n",
              "    </tr>\n",
              "    <tr>\n",
              "      <th>806</th>\n",
              "      <td>tt7126948</td>\n",
              "      <td>42.463652</td>\n",
              "    </tr>\n",
              "    <tr>\n",
              "      <th>897</th>\n",
              "      <td>tt9376612</td>\n",
              "      <td>42.440031</td>\n",
              "    </tr>\n",
              "  </tbody>\n",
              "</table>\n",
              "</div>"
            ],
            "text/plain": [
              "         movie  movie_score\n",
              "559  tt2382320    59.376279\n",
              "573  tt2527338    56.607708\n",
              "762  tt6264654    55.820094\n",
              "650  tt4154796    50.676687\n",
              "807  tt7131622    49.556791\n",
              "659  tt4244994    49.455806\n",
              "648  tt4154664    47.754708\n",
              "449  tt1477834    46.217473\n",
              "806  tt7126948    42.463652\n",
              "897  tt9376612    42.440031"
            ]
          },
          "execution_count": 13,
          "metadata": {},
          "output_type": "execute_result"
        }
      ],
      "source": [
        "user_id = '007Waffles'\n",
        "\n",
        "service_used_by_user_id = df_matrix[df_matrix[author_username] == user_id].dropna(axis=1, how='all')\n",
        "similar_services = df_matrix[df_matrix[author_username].isin(neighborhood_combine[user_id])].dropna(axis=1, how='all')\n",
        "similar_services.drop(service_used_by_user_id.columns[1:],axis=1, inplace=True, errors='ignore')\n",
        "item_score = {}\n",
        "\n",
        "# Loop through items\n",
        "for i in similar_services.columns[1:]:\n",
        "  # Create a variable to store the score\n",
        "  total = 0\n",
        "  # Create a variable to store the number of scores\n",
        "  count = 0\n",
        "  # Loop through similar users\n",
        "  for u in neighborhood_combine[user_id]:\n",
        "    if isnan(similar_services[i][similar_services[author_username] == u].iloc[0]) is False:\n",
        "    # Score is the sum of user similarity score * rating\n",
        "      score = user_cosine_similarity[user_id][u] * similar_services[i][similar_services[author_username] == u].values[0]\n",
        "      total += score\n",
        "      count +=1\n",
        "\n",
        "  item_score[i] = total #/ count\n",
        "# Convert dictionary to pandas dataframe\n",
        "item_score = pd.DataFrame(item_score.items(), columns=['movie', 'movie_score'])\n",
        "item_score['count'] = list(similar_services.count().values)[1:]\n",
        "# Sort the services by score\n",
        "ranked_item_score = item_score.sort_values(by='movie_score', ascending=False)\n",
        "\n",
        "# Select top m services\n",
        "m = 10\n",
        "print(\"Top 10 bộ phim được khuyến khích cho user\",user_id,\"theo mức độ phổ biến\")\n",
        "ranked_item_score[['movie','movie_score']].head(m)"
      ]
    },
    {
      "cell_type": "markdown",
      "metadata": {
        "id": "Kso4TjHWtneE"
      },
      "source": [
        "Chỉ số movie_score chính là tổng hệ số tương quan nhân với rating của các người dùng đối xem bộ phim đó. Bởi vì chỉ số được tính tổng nên ta có thể nhận xét rằng những bộ phim này được đề nghị dựa theo mức độ phổ biến, càng nhiều user xem và đánh giá cao trong tập Neighborhood thì chỉ số càng cao.\n",
        "\n",
        "Bên cạnh đó, nếu ta lấy trung bình chỉ số movie_score này để đánh giá thì nó sẽ biến đổi thành theo \"thị hiếu\" của những user Neighborhood này. Tức là nếu trung bình càng cao chứng tỏ bộ phim có số điểm rating trung bình càng cao."
      ]
    },
    {
      "cell_type": "code",
      "execution_count": null,
      "metadata": {
        "id": "SIf_AC3OtneE",
        "outputId": "c705bf89-7b43-41f4-f214-07f983515b07"
      },
      "outputs": [
        {
          "name": "stdout",
          "output_type": "stream",
          "text": [
            "Top 10 bộ phim được khuyến khích cho user 007Waffles theo mức độ đánh giá\n"
          ]
        },
        {
          "data": {
            "text/html": [
              "<div>\n",
              "<style scoped>\n",
              "    .dataframe tbody tr th:only-of-type {\n",
              "        vertical-align: middle;\n",
              "    }\n",
              "\n",
              "    .dataframe tbody tr th {\n",
              "        vertical-align: top;\n",
              "    }\n",
              "\n",
              "    .dataframe thead th {\n",
              "        text-align: right;\n",
              "    }\n",
              "</style>\n",
              "<table border=\"1\" class=\"dataframe\">\n",
              "  <thead>\n",
              "    <tr style=\"text-align: right;\">\n",
              "      <th></th>\n",
              "      <th>movie</th>\n",
              "      <th>movie_score</th>\n",
              "    </tr>\n",
              "  </thead>\n",
              "  <tbody>\n",
              "    <tr>\n",
              "      <th>521</th>\n",
              "      <td>tt1988621</td>\n",
              "      <td>7.032608</td>\n",
              "    </tr>\n",
              "    <tr>\n",
              "      <th>388</th>\n",
              "      <td>tt1229238</td>\n",
              "      <td>6.857768</td>\n",
              "    </tr>\n",
              "    <tr>\n",
              "      <th>244</th>\n",
              "      <td>tt0437086</td>\n",
              "      <td>6.857768</td>\n",
              "    </tr>\n",
              "    <tr>\n",
              "      <th>754</th>\n",
              "      <td>tt6146586</td>\n",
              "      <td>6.857768</td>\n",
              "    </tr>\n",
              "    <tr>\n",
              "      <th>601</th>\n",
              "      <td>tt3315342</td>\n",
              "      <td>6.774294</td>\n",
              "    </tr>\n",
              "    <tr>\n",
              "      <th>457</th>\n",
              "      <td>tt1506999</td>\n",
              "      <td>6.690820</td>\n",
              "    </tr>\n",
              "    <tr>\n",
              "      <th>325</th>\n",
              "      <td>tt1049413</td>\n",
              "      <td>6.424836</td>\n",
              "    </tr>\n",
              "    <tr>\n",
              "      <th>223</th>\n",
              "      <td>tt0374546</td>\n",
              "      <td>6.424836</td>\n",
              "    </tr>\n",
              "    <tr>\n",
              "      <th>220</th>\n",
              "      <td>tt0372588</td>\n",
              "      <td>6.424836</td>\n",
              "    </tr>\n",
              "    <tr>\n",
              "      <th>228</th>\n",
              "      <td>tt0385004</td>\n",
              "      <td>6.424836</td>\n",
              "    </tr>\n",
              "  </tbody>\n",
              "</table>\n",
              "</div>"
            ],
            "text/plain": [
              "         movie  movie_score\n",
              "521  tt1988621     7.032608\n",
              "388  tt1229238     6.857768\n",
              "244  tt0437086     6.857768\n",
              "754  tt6146586     6.857768\n",
              "601  tt3315342     6.774294\n",
              "457  tt1506999     6.690820\n",
              "325  tt1049413     6.424836\n",
              "223  tt0374546     6.424836\n",
              "220  tt0372588     6.424836\n",
              "228  tt0385004     6.424836"
            ]
          },
          "execution_count": 14,
          "metadata": {},
          "output_type": "execute_result"
        }
      ],
      "source": [
        "user_id = '007Waffles'\n",
        "\n",
        "service_used_by_user_id = df_matrix[df_matrix[author_username] == user_id].dropna(axis=1, how='all')\n",
        "similar_services = df_matrix[df_matrix[author_username].isin(neighborhood_combine[user_id])].dropna(axis=1, how='all')\n",
        "similar_services.drop(service_used_by_user_id.columns[1:],axis=1, inplace=True, errors='ignore')\n",
        "item_score = {}\n",
        "\n",
        "# Loop through items\n",
        "for i in similar_services.columns[1:]:\n",
        "  # Create a variable to store the score\n",
        "  total = 0\n",
        "  # Create a variable to store the number of scores\n",
        "  count = 0\n",
        "  # Loop through similar users\n",
        "  for u in neighborhood_combine[user_id]:\n",
        "    if isnan(similar_services[i][similar_services[author_username] == u].iloc[0]) is False:\n",
        "    # Score is the sum of user similarity score * rating\n",
        "      score = user_cosine_similarity[user_id][u] * similar_services[i][similar_services[author_username] == u].values[0]\n",
        "      total += score\n",
        "      count +=1\n",
        "  item_score[i] = total / count\n",
        "# Convert dictionary to pandas dataframe\n",
        "item_score = pd.DataFrame(item_score.items(), columns=['movie', 'movie_score'])\n",
        "item_score['count'] = list(similar_services.count().values)[1:]\n",
        "# Sort the services by score\n",
        "ranked_item_score = item_score.sort_values(by='movie_score', ascending=False)\n",
        "\n",
        "# Select top m services\n",
        "m = 10\n",
        "print(\"Top 10 bộ phim được khuyến khích cho user\",user_id,\"theo mức độ đánh giá\")\n",
        "ranked_item_score[['movie','movie_score']].head(m)"
      ]
    },
    {
      "cell_type": "markdown",
      "metadata": {
        "id": "8okb7w6ntneF"
      },
      "source": [
        "Movie_score lúc này còn có thể hiểu nếu user này xem bộ phim này thì sẽ rating bao nhiêu bộ phim đó."
      ]
    },
    {
      "cell_type": "code",
      "execution_count": null,
      "metadata": {
        "id": "kXFn6c_DtneF"
      },
      "outputs": [],
      "source": [
        "# neighborhood_combine_dic = {i:j for i,j in neighborhood_combine.items() if j != []}\n",
        "# ser = pd.Series({k: list(v) for k, v in neighborhood_combine_dic.items()}).str.join('|').str.get_dummies()\n",
        "# ser.replace(0,np.nan,inplace=True)\n",
        "# out = dict(ser.stack().iteritems())\n",
        "\n",
        "# neighbor_list = {'user':[],'neighbor':[],'similarity':[]}\n",
        "# for pair in out:\n",
        "#     neighbor_list['user'].append(pair[0])\n",
        "#     neighbor_list['neighbor'].append(pair[1])\n",
        "#     neighbor_list['similarity'].append(user_cosine_similarity[pair[0]][pair[1]])"
      ]
    },
    {
      "cell_type": "code",
      "execution_count": null,
      "metadata": {
        "id": "EvLLFnEPtneF"
      },
      "outputs": [],
      "source": [
        "def neighborhood_util():\n",
        "    neighborhood_combine_dic = {i:j for i,j in neighborhood_combine.items() if j != []}\n",
        "    ser = pd.Series({k: list(v) for k, v in neighborhood_combine_dic.items()}).str.join('|').str.get_dummies()\n",
        "    ser.replace(0,np.nan,inplace=True)\n",
        "    out = dict(ser.stack().iteritems())\n",
        "\n",
        "    neighbor_list = {'user':[],'neighbor':[],'similarity':[]}\n",
        "    for pair in out:\n",
        "        neighbor_list['user'].append(pair[0])\n",
        "        neighbor_list['neighbor'].append(pair[1])\n",
        "        neighbor_list['similarity'].append(user_cosine_similarity[pair[0]][pair[1]])\n",
        "\n",
        "    return neighbor_list"
      ]
    },
    {
      "cell_type": "code",
      "execution_count": null,
      "metadata": {
        "id": "sRvBynPatneF"
      },
      "outputs": [],
      "source": [
        "start = time.time()\n",
        "neighbor_list = neighborhood_util(neighborhood_combine)\n",
        "end = time.time()\n",
        "print(f'Processing time: {end - start} s')"
      ]
    },
    {
      "cell_type": "code",
      "execution_count": null,
      "metadata": {
        "id": "F6AITncxtneF"
      },
      "outputs": [],
      "source": [
        "def calc_rating(selectedUser_neighbors,selectedUser_moviesWatched,final_review,review_matrix,df_selectedUser_neighbors):\n",
        "\n",
        "    test_dict = {}\n",
        "    for user in selectedUser_neighbors:\n",
        "        similar_movies = final_review[final_review['author'] == user]['imdb_id'].tolist()\n",
        "        similar_movies = list(set(similar_movies) - set(selectedUser_moviesWatched))\n",
        "        for movie in similar_movies:\n",
        "            get_rating = review_matrix[movie][review_matrix['author'] == user].values[0]\n",
        "            similarity = df_selectedUser_neighbors[df_selectedUser_neighbors['neighbor'] == user]['similarity'].values[0] * get_rating\n",
        "            test_dict.setdefault(movie,[]).append(similarity)\n",
        "\n",
        "    return test_dict\n"
      ]
    },
    {
      "cell_type": "code",
      "execution_count": null,
      "metadata": {
        "id": "LiW9_x3TtneF"
      },
      "outputs": [],
      "source": [
        "def get_recommend_movies(movie_neighborhood,final_review,user_id,item_limit,mode='popular'):\n",
        "    check = False\n",
        "    # Kiểm tra user_id có trong db không, nếu không thì chạy dự đoán. Nếu có thì lấy từ db lên rồi hiển thị\n",
        "    if check == False:\n",
        "        review_matrix = final_review.pivot_table(index=author_username, columns=movie_id, values=ratings).reset_index()\n",
        "        review_matrix = review_matrix[:1000]\n",
        "        selectedUser_moviesWatched = set(final_review[final_review['author'] == user_id]['imdb_id'].tolist())\n",
        "        df_selectedUser_neighbors = movie_neighborhood[movie_neighborhood['user'] == user_id].reset_index()\n",
        "        selectedUser_neighbors = df_selectedUser_neighbors['neighbor'].tolist()\n",
        "\n",
        "        test_dict = calc_rating(selectedUser_neighbors,selectedUser_moviesWatched,final_review,review_matrix,df_selectedUser_neighbors)\n",
        "\n",
        "        if mode == 'popular':\n",
        "            final_dict = sorted(test_dict, key=lambda x:len(test_dict[x]), reverse=True)[:item_limit]\n",
        "        elif mode == 'favorite':\n",
        "            final_dict = sorted(test_dict, key=lambda x:sum(test_dict[x]), reverse=True)[:item_limit]\n",
        "    else:\n",
        "        print(\"\")\n",
        "    return final_dict"
      ]
    },
    {
      "cell_type": "code",
      "execution_count": null,
      "metadata": {
        "id": "B7Nl3NO9tneF"
      },
      "outputs": [],
      "source": [
        "# Get movie_neighborhood and final_review table from the db\n",
        "movie_neighborhood = pd.DataFrame(neighbor_list)\n",
        "final_review = train_df\n",
        "user_id = '007Waffles'"
      ]
    },
    {
      "cell_type": "code",
      "execution_count": null,
      "metadata": {
        "id": "pFhZcx4etneF"
      },
      "outputs": [],
      "source": [
        "# Hai mode là popular và favorite\n",
        "movie_limit = 5\n",
        "mode = 'popular'\n",
        "test_dict = get_recommend_movies(movie_neighborhood,final_review,user_id,movie_limit,mode=mode)"
      ]
    },
    {
      "cell_type": "code",
      "execution_count": null,
      "metadata": {
        "id": "SIwImHhwtneG",
        "outputId": "383a4311-b5a3-4840-bd55-1c7ed76e8cad"
      },
      "outputs": [
        {
          "data": {
            "text/plain": [
              "['tt2527338', 'tt4154664', 'tt4154796', 'tt7126948', 'tt2382320']"
            ]
          },
          "execution_count": 19,
          "metadata": {},
          "output_type": "execute_result"
        }
      ],
      "source": [
        "test_dict"
      ]
    }
  ],
  "metadata": {
    "accelerator": "GPU",
    "colab": {
      "gpuType": "T4",
      "provenance": []
    },
    "kernelspec": {
      "display_name": "Python 3",
      "name": "python3"
    },
    "language_info": {
      "codemirror_mode": {
        "name": "ipython",
        "version": 3
      },
      "file_extension": ".py",
      "mimetype": "text/x-python",
      "name": "python",
      "nbconvert_exporter": "python",
      "pygments_lexer": "ipython3",
      "version": "3.11.3"
    },
    "orig_nbformat": 4
  },
  "nbformat": 4,
  "nbformat_minor": 0
}
